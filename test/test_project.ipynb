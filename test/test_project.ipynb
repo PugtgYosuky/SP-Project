{
 "cells": [
  {
   "cell_type": "markdown",
   "metadata": {},
   "source": [
    "# Notebook to test functions while the communication is not working"
   ]
  },
  {
   "cell_type": "markdown",
   "metadata": {},
   "source": [
    "Libraries:\n",
    "- pycryptodome : pip install pycryptodome\n",
    "- cryptography : pip install cryptography\n",
    "- pmlb: pip install pmlb\n",
    "- pandas : pip install pandas"
   ]
  },
  {
   "cell_type": "code",
   "execution_count": null,
   "metadata": {},
   "outputs": [],
   "source": []
  }
 ],
 "metadata": {
  "kernelspec": {
   "display_name": "Python 3.10.4 ('sp')",
   "language": "python",
   "name": "python3"
  },
  "language_info": {
   "name": "python",
   "version": "3.10.4"
  },
  "orig_nbformat": 4,
  "vscode": {
   "interpreter": {
    "hash": "be7c57b8279e6e53d85f01aa2012720929078fc96e987919034ddf7c36c3eb3c"
   }
  }
 },
 "nbformat": 4,
 "nbformat_minor": 2
}
