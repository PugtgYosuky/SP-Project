{
 "cells": [
  {
   "cell_type": "markdown",
   "metadata": {},
   "source": [
    "# Notebook to test functions while the communication is not working"
   ]
  },
  {
   "cell_type": "markdown",
   "metadata": {},
   "source": [
    "Libraries:\n",
    "- pycryptodome : pip install pycryptodome\n",
    "- cryptography : pip install cryptography\n",
    "- pmlb: pip install pmlb\n",
    "- pandas : pip install pandas"
   ]
  },
  {
   "cell_type": "code",
   "execution_count": 15,
   "metadata": {},
   "outputs": [],
   "source": [
    "import pandas as pd\n",
    "from io import StringIO\n",
    "from Crypto.Cipher import AES\n",
    "from Crypto.Util import Counter\n",
    "from Crypto.Random import get_random_bytes\n",
    "from Crypto.Util.Padding import pad, unpad\n",
    "from cryptography.hazmat.backends import default_backend\n",
    "from cryptography.hazmat.primitives import hashes\n",
    "from cryptography.hazmat.primitives.asymmetric import dh\n",
    "from cryptography.hazmat.primitives.kdf.hkdf import HKDF\n",
    "import json\n",
    "import os\n",
    "from cryptography.hazmat.primitives.serialization import Encoding\n",
    "from cryptography.hazmat.primitives.serialization import PublicFormat\n",
    "from cryptography.hazmat.primitives.serialization import load_pem_public_key\n",
    "import base64"
   ]
  },
  {
   "cell_type": "code",
   "execution_count": 18,
   "metadata": {},
   "outputs": [
    {
     "name": "stdout",
     "output_type": "stream",
     "text": [
      "Defaulting to user installation because normal site-packages is not writeable\n",
      "Collecting simplejson\n",
      "  Downloading simplejson-3.17.6-cp39-cp39-macosx_10_9_x86_64.whl (74 kB)\n",
      "\u001b[K     |████████████████████████████████| 74 kB 1.3 MB/s eta 0:00:01\n",
      "\u001b[?25hInstalling collected packages: simplejson\n",
      "Successfully installed simplejson-3.17.6\n",
      "\u001b[33mWARNING: You are using pip version 21.2.4; however, version 22.2.2 is available.\n",
      "You should consider upgrading via the '/Applications/Xcode.app/Contents/Developer/usr/bin/python3 -m pip install --upgrade pip' command.\u001b[0m\n",
      "Note: you may need to restart the kernel to use updated packages.\n"
     ]
    }
   ],
   "source": [
    "%pip install simplejson"
   ]
  },
  {
   "cell_type": "code",
   "execution_count": 19,
   "metadata": {},
   "outputs": [],
   "source": [
    "\n",
    "file_path = os.path.join('dataset', 'infringement_dataset.csv')"
   ]
  },
  {
   "cell_type": "markdown",
   "metadata": {},
   "source": [
    "#### Generate Private Key"
   ]
  },
  {
   "cell_type": "code",
   "execution_count": 20,
   "metadata": {},
   "outputs": [],
   "source": [
    "def get_private_key():\n",
    "    return get_random_bytes(AES.key_size[0])\n",
    "\n",
    "    \"\"\"\n",
    "    with open('/dev/urandom', 'rb') as f:\n",
    "        return f.read(AES.key_size[0])\n",
    "    \"\"\""
   ]
  },
  {
   "cell_type": "markdown",
   "metadata": {},
   "source": [
    "## Communication function"
   ]
  },
  {
   "cell_type": "code",
   "execution_count": 21,
   "metadata": {},
   "outputs": [],
   "source": [
    "class CommunicationViaJson():\n",
    "    def __init__(self):\n",
    "        # Initializing the class.\n",
    "        self.receive_information()\n",
    "\n",
    "    def send_information(self):\n",
    "        # Writing the data to a file.\n",
    "        json_object = json.dumps(self.data, indent=4)\n",
    "        with open('common_file.json', 'w') as output:\n",
    "            output.write(json_object)\n",
    "            output.close()\n",
    "    \n",
    "    def receive_information(self):\n",
    "        # Reading the json file and loading it into the data variable.\n",
    "        with open('common_file.json', 'r') as input:\n",
    "            self.data = json.load(input)\n",
    "            input.close()\n",
    "\n",
    "    \n",
    "    def add_value(self, variable, new_value):\n",
    "        # A function that changes the value of a variable in the data and writes it into a json file\n",
    "        self.data[variable] = new_value\n",
    "        self.send_information()\n",
    "\n",
    "    def get_value(self, variable):\n",
    "        if variable in self.data:\n",
    "            return self.data[variable]\n",
    "        else:\n",
    "            return None\n",
    "\n",
    "    def get_hash_algorithm(self):\n",
    "        pass\n",
    "        # TODO: function to get the algorithm to use"
   ]
  },
  {
   "cell_type": "markdown",
   "metadata": {},
   "source": [
    "## DH - generate private shared key"
   ]
  },
  {
   "cell_type": "code",
   "execution_count": 28,
   "metadata": {},
   "outputs": [],
   "source": [
    "class DH_controlER:\n",
    "    def __init__(self, communication):\n",
    "        self.communication = communication\n",
    "        self.parameters = dh.generate_parameters(generator=2, key_size=2048)\n",
    "        self.private_key = self.parameters.generate_private_key()\n",
    "        self.public_key = self.private_key.public_key()\n",
    "        self.communication.add_value('P', self.parameters.parameter_numbers().p)\n",
    "        self.communication.add_value('G', self.parameters.parameter_numbers().g)\n",
    "\n",
    "        with open('controlKey', 'wb') as file:\n",
    "            file.write(self.public_key.public_bytes(encoding=Encoding.PEM, format=PublicFormat.SubjectPublicKeyInfo)) \n",
    "            file.close()\n",
    "        #self.communication.add_value('public_key_controlER', self.public_key.public_bytes(encoding=Encoding.PEM, format=PublicFormat.SubjectPublicKeyInfo))\n",
    "        \n",
    "    def calculate_private_key(self):\n",
    "        with open('delenttureKey', 'rb') as f:\n",
    "            decoded = f.read()\n",
    "            f.close()\n",
    "        #decoded = self.communication.get_value('public_key_delentture')\n",
    "        other_public_key = load_pem_public_key(decoded)\n",
    "        algorithm = hashes.SHA256() # TODO: change algorithm\n",
    "        if other_public_key:\n",
    "            self.shared_secret = self.private_key.exchange(other_public_key)\n",
    "            self.private_key = HKDF(\n",
    "                algorithm = algorithm, \n",
    "                length=32,\n",
    "                salt=None, \n",
    "                info=b'handshake data',\n",
    "                backend=default_backend()\n",
    "            ).derive(self.shared_secret)\n",
    "            \n",
    "        return None"
   ]
  },
  {
   "cell_type": "code",
   "execution_count": 30,
   "metadata": {},
   "outputs": [],
   "source": [
    "class DH_delentture:\n",
    "    def __init__(self, communication):\n",
    "        self.communication = communication\n",
    "        p = self.communication.get_value('P')\n",
    "        g = self.communication.get_value('G')\n",
    "        self.pn = dh.DHParameterNumbers(p, g)\n",
    "        self.parameters = self.pn.parameters()\n",
    "        self.private_key = self.parameters.generate_private_key()\n",
    "        self.public_key = self.private_key.public_key()\n",
    "        with open('delenttureKey', 'wb') as file:\n",
    "            file.write(self.public_key.public_bytes(encoding=Encoding.PEM, format=PublicFormat.SubjectPublicKeyInfo)) \n",
    "            file.close()\n",
    "        #self.communication.add_value('public_key_delentture', self.public_key.public_bytes(encoding=Encoding.PEM, format=PublicFormat.SubjectPublicKeyInfo))\n",
    "        \n",
    "    def calculate_private_key(self):\n",
    "        with open('controlKey', 'rb') as f:\n",
    "            decoded = f.read()\n",
    "            f.close()\n",
    "        #decoded = self.communication.get_value('public_key_controlER')\n",
    "        other_public_key = load_pem_public_key(decoded)\n",
    "        algorithm = hashes.SHA256() # TODO: change algorithm\n",
    "        if other_public_key:\n",
    "            self.shared_secret = self.private_key.exchange(other_public_key)\n",
    "            self.private_key = HKDF(\n",
    "                algorithm = algorithm, \n",
    "                length=32,\n",
    "                salt=None,\n",
    "                info=b'handshake data',\n",
    "                backend=default_backend()\n",
    "            ).derive(self.shared_secret)\n",
    "            \n",
    "        return None\n",
    "    \n",
    "    "
   ]
  },
  {
   "cell_type": "markdown",
   "metadata": {},
   "source": [
    "### Testing"
   ]
  },
  {
   "cell_type": "code",
   "execution_count": 23,
   "metadata": {},
   "outputs": [
    {
     "ename": "FileNotFoundError",
     "evalue": "[Errno 2] No such file or directory: 'common_file.json'",
     "output_type": "error",
     "traceback": [
      "\u001b[0;31m---------------------------------------------------------------------------\u001b[0m",
      "\u001b[0;31mFileNotFoundError\u001b[0m                         Traceback (most recent call last)",
      "Cell \u001b[0;32mIn [23], line 1\u001b[0m\n\u001b[0;32m----> 1\u001b[0m communication \u001b[38;5;241m=\u001b[39m CommunicationViaJson()\n",
      "Cell \u001b[0;32mIn [21], line 4\u001b[0m, in \u001b[0;36mCommunicationViaJson.__init__\u001b[0;34m(self)\u001b[0m\n\u001b[1;32m      2\u001b[0m \u001b[38;5;28;01mdef\u001b[39;00m \u001b[38;5;21m__init__\u001b[39m(\u001b[38;5;28mself\u001b[39m):\n\u001b[1;32m      3\u001b[0m     \u001b[38;5;66;03m# Initializing the class.\u001b[39;00m\n\u001b[0;32m----> 4\u001b[0m     \u001b[38;5;28;43mself\u001b[39;49m\u001b[38;5;241;43m.\u001b[39;49m\u001b[43mreceive_information\u001b[49m\u001b[43m(\u001b[49m\u001b[43m)\u001b[49m\n",
      "Cell \u001b[0;32mIn [21], line 15\u001b[0m, in \u001b[0;36mCommunicationViaJson.receive_information\u001b[0;34m(self)\u001b[0m\n\u001b[1;32m     13\u001b[0m \u001b[38;5;28;01mdef\u001b[39;00m \u001b[38;5;21mreceive_information\u001b[39m(\u001b[38;5;28mself\u001b[39m):\n\u001b[1;32m     14\u001b[0m     \u001b[38;5;66;03m# Reading the json file and loading it into the data variable.\u001b[39;00m\n\u001b[0;32m---> 15\u001b[0m     \u001b[38;5;28;01mwith\u001b[39;00m \u001b[38;5;28;43mopen\u001b[39;49m\u001b[43m(\u001b[49m\u001b[38;5;124;43m'\u001b[39;49m\u001b[38;5;124;43mcommon_file.json\u001b[39;49m\u001b[38;5;124;43m'\u001b[39;49m\u001b[43m,\u001b[49m\u001b[43m \u001b[49m\u001b[38;5;124;43m'\u001b[39;49m\u001b[38;5;124;43mr\u001b[39;49m\u001b[38;5;124;43m'\u001b[39;49m\u001b[43m)\u001b[49m \u001b[38;5;28;01mas\u001b[39;00m \u001b[38;5;28minput\u001b[39m:\n\u001b[1;32m     16\u001b[0m         \u001b[38;5;28mself\u001b[39m\u001b[38;5;241m.\u001b[39mdata \u001b[38;5;241m=\u001b[39m json\u001b[38;5;241m.\u001b[39mload(\u001b[38;5;28minput\u001b[39m)\n\u001b[1;32m     17\u001b[0m         \u001b[38;5;28minput\u001b[39m\u001b[38;5;241m.\u001b[39mclose()\n",
      "\u001b[0;31mFileNotFoundError\u001b[0m: [Errno 2] No such file or directory: 'common_file.json'"
     ]
    }
   ],
   "source": [
    "communication = CommunicationViaJson()"
   ]
  },
  {
   "cell_type": "code",
   "execution_count": 164,
   "metadata": {},
   "outputs": [],
   "source": [
    "dh_control_ER = DH_controlER(communication)"
   ]
  },
  {
   "cell_type": "code",
   "execution_count": 165,
   "metadata": {},
   "outputs": [],
   "source": [
    "communication2 = CommunicationViaJson()"
   ]
  },
  {
   "cell_type": "code",
   "execution_count": 166,
   "metadata": {},
   "outputs": [],
   "source": [
    "dh_delentture = DH_delentture(communication2)"
   ]
  },
  {
   "cell_type": "code",
   "execution_count": 29,
   "metadata": {},
   "outputs": [
    {
     "ename": "NameError",
     "evalue": "name 'dh_control_ER' is not defined",
     "output_type": "error",
     "traceback": [
      "\u001b[0;31m---------------------------------------------------------------------------\u001b[0m",
      "\u001b[0;31mNameError\u001b[0m                                 Traceback (most recent call last)",
      "Cell \u001b[0;32mIn [29], line 1\u001b[0m\n\u001b[0;32m----> 1\u001b[0m control_private \u001b[38;5;241m=\u001b[39m dh_control_ER\u001b[38;5;241m.\u001b[39mcalculate_private_key()\n",
      "\u001b[0;31mNameError\u001b[0m: name 'dh_control_ER' is not defined"
     ]
    }
   ],
   "source": [
    "control_private = dh_control_ER.calculate_private_key()"
   ]
  },
  {
   "cell_type": "code",
   "execution_count": 168,
   "metadata": {},
   "outputs": [],
   "source": [
    "delentture_private = dh_delentture.calculate_private_key()"
   ]
  },
  {
   "cell_type": "markdown",
   "metadata": {},
   "source": [
    "## AES-CTR"
   ]
  },
  {
   "cell_type": "markdown",
   "metadata": {},
   "source": [
    "### Encrypt"
   ]
  },
  {
   "cell_type": "code",
   "execution_count": 27,
   "metadata": {},
   "outputs": [
    {
     "ename": "FileNotFoundError",
     "evalue": "[Errno 2] No such file or directory: 'dataset/infringement_dataset.csv'",
     "output_type": "error",
     "traceback": [
      "\u001b[0;31m---------------------------------------------------------------------------\u001b[0m",
      "\u001b[0;31mFileNotFoundError\u001b[0m                         Traceback (most recent call last)",
      "Cell \u001b[0;32mIn [27], line 14\u001b[0m\n\u001b[1;32m     11\u001b[0m     \u001b[38;5;28;01mreturn\u001b[39;00m encrypted_csv, key\n\u001b[1;32m     13\u001b[0m ctr_iv \u001b[38;5;241m=\u001b[39m \u001b[38;5;241m10\u001b[39m\n\u001b[0;32m---> 14\u001b[0m ctr_ct, ctr_key \u001b[38;5;241m=\u001b[39m encrypt_csv_ctr(file_path, ctr_iv)\n",
      "Cell \u001b[0;32mIn [27], line 8\u001b[0m, in \u001b[0;36mencrypt_csv_ctr\u001b[0;34m(file_name, civ, counter_size)\u001b[0m\n\u001b[1;32m      4\u001b[0m counter \u001b[38;5;241m=\u001b[39m Counter\u001b[38;5;241m.\u001b[39mnew(counter_size, initial_value\u001b[38;5;241m=\u001b[39mciv)\n\u001b[1;32m      6\u001b[0m aes \u001b[38;5;241m=\u001b[39m AES\u001b[38;5;241m.\u001b[39mnew(key, mode\u001b[38;5;241m=\u001b[39mAES\u001b[38;5;241m.\u001b[39mMODE_CTR, counter\u001b[38;5;241m=\u001b[39mcounter)\n\u001b[0;32m----> 8\u001b[0m \u001b[38;5;28;01mwith\u001b[39;00m \u001b[38;5;28;43mopen\u001b[39;49m\u001b[43m(\u001b[49m\u001b[43mfile_name\u001b[49m\u001b[43m,\u001b[49m\u001b[43m \u001b[49m\u001b[38;5;124;43m'\u001b[39;49m\u001b[38;5;124;43mrb\u001b[39;49m\u001b[38;5;124;43m'\u001b[39;49m\u001b[43m)\u001b[49m \u001b[38;5;28;01mas\u001b[39;00m file:\n\u001b[1;32m      9\u001b[0m     csv_data \u001b[38;5;241m=\u001b[39m file\u001b[38;5;241m.\u001b[39mread()\n\u001b[1;32m     10\u001b[0m     encrypted_csv \u001b[38;5;241m=\u001b[39m aes\u001b[38;5;241m.\u001b[39mencrypt(csv_data)\n",
      "\u001b[0;31mFileNotFoundError\u001b[0m: [Errno 2] No such file or directory: 'dataset/infringement_dataset.csv'"
     ]
    }
   ],
   "source": [
    "def encrypt_csv_ctr(file_name, civ, counter_size=128):\n",
    "    key = get_private_key()\n",
    "    \n",
    "    counter = Counter.new(counter_size, initial_value=civ)\n",
    "    \n",
    "    aes = AES.new(key, mode=AES.MODE_CTR, counter=counter)\n",
    "\n",
    "    with open(file_name, 'rb') as file:\n",
    "        csv_data = file.read()\n",
    "        encrypted_csv = aes.encrypt(csv_data)\n",
    "    return encrypted_csv, key\n",
    "\n",
    "ctr_iv = 10\n",
    "ctr_ct, ctr_key = encrypt_csv_ctr(file_path, ctr_iv)"
   ]
  },
  {
   "cell_type": "markdown",
   "metadata": {},
   "source": [
    "### Decrypt"
   ]
  },
  {
   "cell_type": "code",
   "execution_count": 170,
   "metadata": {},
   "outputs": [],
   "source": [
    "def decrypt_csv_ctr(ct, key, counter_iv, counter_size=128):\n",
    "    counter = Counter.new(counter_size, initial_value=counter_iv)    \n",
    "    aes = AES.new(key=key, mode=AES.MODE_CTR, counter=counter)\n",
    "    return aes.decrypt(ct)"
   ]
  },
  {
   "cell_type": "code",
   "execution_count": 171,
   "metadata": {},
   "outputs": [
    {
     "data": {
      "text/html": [
       "<div>\n",
       "<style scoped>\n",
       "    .dataframe tbody tr th:only-of-type {\n",
       "        vertical-align: middle;\n",
       "    }\n",
       "\n",
       "    .dataframe tbody tr th {\n",
       "        vertical-align: top;\n",
       "    }\n",
       "\n",
       "    .dataframe thead th {\n",
       "        text-align: right;\n",
       "    }\n",
       "</style>\n",
       "<table border=\"1\" class=\"dataframe\">\n",
       "  <thead>\n",
       "    <tr style=\"text-align: right;\">\n",
       "      <th></th>\n",
       "      <th>loan_id</th>\n",
       "      <th>infringed</th>\n",
       "      <th>contract_type</th>\n",
       "      <th>gender</th>\n",
       "      <th>has_own_car</th>\n",
       "      <th>has_own_realty</th>\n",
       "      <th>num_children</th>\n",
       "      <th>annual_income</th>\n",
       "      <th>credit_amount</th>\n",
       "      <th>credit_annuity</th>\n",
       "      <th>...</th>\n",
       "      <th>SK_ID_CURR</th>\n",
       "      <th>avg_days_decision</th>\n",
       "      <th>past_avg_amount_annuity</th>\n",
       "      <th>past_avg_amt_application</th>\n",
       "      <th>past_avg_amt_credit</th>\n",
       "      <th>past_loans_approved</th>\n",
       "      <th>past_loans_refused</th>\n",
       "      <th>past_loans_canceled</th>\n",
       "      <th>past_loans_unused</th>\n",
       "      <th>past_loans_total</th>\n",
       "    </tr>\n",
       "  </thead>\n",
       "  <tbody>\n",
       "    <tr>\n",
       "      <th>0</th>\n",
       "      <td>100002</td>\n",
       "      <td>1</td>\n",
       "      <td>Cash loans</td>\n",
       "      <td>M</td>\n",
       "      <td>N</td>\n",
       "      <td>Y</td>\n",
       "      <td>0</td>\n",
       "      <td>202500.0</td>\n",
       "      <td>406597.5</td>\n",
       "      <td>24700.5</td>\n",
       "      <td>...</td>\n",
       "      <td>100002.0</td>\n",
       "      <td>606.0</td>\n",
       "      <td>9251.775</td>\n",
       "      <td>179055.0</td>\n",
       "      <td>179055.0</td>\n",
       "      <td>1.0</td>\n",
       "      <td>0.0</td>\n",
       "      <td>0.0</td>\n",
       "      <td>0.0</td>\n",
       "      <td>1.0</td>\n",
       "    </tr>\n",
       "    <tr>\n",
       "      <th>1</th>\n",
       "      <td>100003</td>\n",
       "      <td>0</td>\n",
       "      <td>Cash loans</td>\n",
       "      <td>F</td>\n",
       "      <td>N</td>\n",
       "      <td>N</td>\n",
       "      <td>0</td>\n",
       "      <td>270000.0</td>\n",
       "      <td>1293502.5</td>\n",
       "      <td>35698.5</td>\n",
       "      <td>...</td>\n",
       "      <td>100003.0</td>\n",
       "      <td>1305.0</td>\n",
       "      <td>56553.990</td>\n",
       "      <td>435436.5</td>\n",
       "      <td>484191.0</td>\n",
       "      <td>3.0</td>\n",
       "      <td>0.0</td>\n",
       "      <td>0.0</td>\n",
       "      <td>0.0</td>\n",
       "      <td>3.0</td>\n",
       "    </tr>\n",
       "    <tr>\n",
       "      <th>2</th>\n",
       "      <td>100004</td>\n",
       "      <td>0</td>\n",
       "      <td>Revolving loans</td>\n",
       "      <td>M</td>\n",
       "      <td>Y</td>\n",
       "      <td>Y</td>\n",
       "      <td>0</td>\n",
       "      <td>67500.0</td>\n",
       "      <td>135000.0</td>\n",
       "      <td>6750.0</td>\n",
       "      <td>...</td>\n",
       "      <td>100004.0</td>\n",
       "      <td>815.0</td>\n",
       "      <td>5357.250</td>\n",
       "      <td>24282.0</td>\n",
       "      <td>20106.0</td>\n",
       "      <td>1.0</td>\n",
       "      <td>0.0</td>\n",
       "      <td>0.0</td>\n",
       "      <td>0.0</td>\n",
       "      <td>1.0</td>\n",
       "    </tr>\n",
       "  </tbody>\n",
       "</table>\n",
       "<p>3 rows × 69 columns</p>\n",
       "</div>"
      ],
      "text/plain": [
       "   loan_id  infringed    contract_type gender has_own_car has_own_realty  \\\n",
       "0   100002          1       Cash loans      M           N              Y   \n",
       "1   100003          0       Cash loans      F           N              N   \n",
       "2   100004          0  Revolving loans      M           Y              Y   \n",
       "\n",
       "   num_children  annual_income  credit_amount  credit_annuity  ...  \\\n",
       "0             0       202500.0       406597.5         24700.5  ...   \n",
       "1             0       270000.0      1293502.5         35698.5  ...   \n",
       "2             0        67500.0       135000.0          6750.0  ...   \n",
       "\n",
       "   SK_ID_CURR avg_days_decision past_avg_amount_annuity  \\\n",
       "0    100002.0             606.0                9251.775   \n",
       "1    100003.0            1305.0               56553.990   \n",
       "2    100004.0             815.0                5357.250   \n",
       "\n",
       "  past_avg_amt_application past_avg_amt_credit  past_loans_approved  \\\n",
       "0                 179055.0            179055.0                  1.0   \n",
       "1                 435436.5            484191.0                  3.0   \n",
       "2                  24282.0             20106.0                  1.0   \n",
       "\n",
       "   past_loans_refused  past_loans_canceled  past_loans_unused  \\\n",
       "0                 0.0                  0.0                0.0   \n",
       "1                 0.0                  0.0                0.0   \n",
       "2                 0.0                  0.0                0.0   \n",
       "\n",
       "   past_loans_total  \n",
       "0               1.0  \n",
       "1               3.0  \n",
       "2               1.0  \n",
       "\n",
       "[3 rows x 69 columns]"
      ]
     },
     "execution_count": 171,
     "metadata": {},
     "output_type": "execute_result"
    }
   ],
   "source": [
    "pd.read_csv(StringIO(decrypt_csv_ctr(ctr_ct, ctr_key, ctr_iv).decode('utf-8'))).head(3)"
   ]
  },
  {
   "cell_type": "markdown",
   "metadata": {},
   "source": [
    "### Verification "
   ]
  },
  {
   "cell_type": "code",
   "execution_count": 31,
   "metadata": {},
   "outputs": [],
   "source": [
    "def signature(data):\n",
    "    #The hashing algorithm used to hash the data is SHA256, and the padding algorithm is pS%\n",
    "    padding_obj_sig = padding.PSS(mgf=padding.MGF1(hashes.SHA256()), salt_length=padding.PSS.MAX_LENGTH)\n",
    "    signature = control_private.sign(data, padding=padding_obj_sig, algorithm=hashes.SHA256()) \n",
    "    return signature,padding_obj_sig\n",
    "\n",
    "#Function used to verify the integraty of the data, teh receiver must use the same hash and padding algorithm\n",
    "def integraty(data,padding_obj_sig,public_key):\n",
    "    #If the signature does not match the data, an InvalidSignature exception will be raised\n",
    "    decrypted_file = public_key.verify(signature,data,padding_obj_sig,hashes.SHA256())\n",
    "\n"
   ]
  }
 ],
 "metadata": {
  "kernelspec": {
   "display_name": "Python 3.9.6 64-bit",
   "language": "python",
   "name": "python3"
  },
  "language_info": {
   "codemirror_mode": {
    "name": "ipython",
    "version": 3
   },
   "file_extension": ".py",
   "mimetype": "text/x-python",
   "name": "python",
   "nbconvert_exporter": "python",
   "pygments_lexer": "ipython3",
   "version": "3.9.6"
  },
  "vscode": {
   "interpreter": {
    "hash": "31f2aee4e71d21fbe5cf8b01ff0e069b9275f58929596ceb00d14d90e3e16cd6"
   }
  }
 },
 "nbformat": 4,
 "nbformat_minor": 4
}
