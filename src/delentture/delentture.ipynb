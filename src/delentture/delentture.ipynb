{
 "cells": [
  {
   "cell_type": "markdown",
   "metadata": {},
   "source": [
    "# Delentture side"
   ]
  },
  {
   "cell_type": "code",
   "execution_count": 1,
   "metadata": {},
   "outputs": [],
   "source": [
    "import sys\n",
    "sys.path.append('..')"
   ]
  },
  {
   "cell_type": "code",
   "execution_count": 2,
   "metadata": {},
   "outputs": [],
   "source": [
    "from cryptography.hazmat.backends import default_backend\n",
    "from cryptography.hazmat.primitives import hashes\n",
    "from cryptography.hazmat.primitives.asymmetric import dh\n",
    "from cryptography.hazmat.primitives.kdf.hkdf import HKDF\n",
    "from cryptography.hazmat.primitives.serialization import Encoding\n",
    "from cryptography.hazmat.primitives.serialization import PublicFormat\n",
    "from cryptography.hazmat.primitives.serialization import load_pem_public_key"
   ]
  },
  {
   "cell_type": "code",
   "execution_count": 3,
   "metadata": {},
   "outputs": [],
   "source": [
    "from common.communication import CommunicationViaJson\n",
    "from common.signverify import SignVerifyDocument\n",
    "from dh import DH"
   ]
  },
  {
   "cell_type": "code",
   "execution_count": 4,
   "metadata": {},
   "outputs": [],
   "source": [
    "communication = CommunicationViaJson()"
   ]
  },
  {
   "cell_type": "code",
   "execution_count": 5,
   "metadata": {},
   "outputs": [],
   "source": [
    "dh = DH(communication)"
   ]
  },
  {
   "cell_type": "code",
   "execution_count": 6,
   "metadata": {},
   "outputs": [],
   "source": [
    "key = dh.calculate_private_key()"
   ]
  },
  {
   "cell_type": "code",
   "execution_count": 7,
   "metadata": {},
   "outputs": [
    {
     "ename": "ValueError",
     "evalue": "('Error computing shared key.', [_OpenSSLErrorWithText(code=478150859, lib=57, reason=203, reason_text=b'error:1C8000CB:Provider routines::mismatching domain parameters')])",
     "output_type": "error",
     "traceback": [
      "\u001b[1;31m---------------------------------------------------------------------------\u001b[0m",
      "\u001b[1;31mValueError\u001b[0m                                Traceback (most recent call last)",
      "Cell \u001b[1;32mIn [7], line 1\u001b[0m\n\u001b[1;32m----> 1\u001b[0m iv \u001b[38;5;241m=\u001b[39m dh\u001b[38;5;241m.\u001b[39mcalculate_private_iv()\n",
      "File \u001b[1;32mc:\\Users\\joana\\Desktop\\mecd\\SP\\SP_project\\src\\delentture\\dh.py:55\u001b[0m, in \u001b[0;36mDH.calculate_private_iv\u001b[1;34m(self)\u001b[0m\n\u001b[0;32m     53\u001b[0m algorithm \u001b[39m=\u001b[39m hashes\u001b[39m.\u001b[39mSHA256() \u001b[39m# TODO: change algorithm\u001b[39;00m\n\u001b[0;32m     54\u001b[0m \u001b[39mif\u001b[39;00m other_public_key:\n\u001b[1;32m---> 55\u001b[0m     \u001b[39mself\u001b[39m\u001b[39m.\u001b[39mshared_secret_iv \u001b[39m=\u001b[39m \u001b[39mself\u001b[39;49m\u001b[39m.\u001b[39;49mprivate_iv\u001b[39m.\u001b[39;49mexchange(other_public_key)\n\u001b[0;32m     56\u001b[0m     \u001b[39mself\u001b[39m\u001b[39m.\u001b[39mcommon_private_iv \u001b[39m=\u001b[39m HKDF(\n\u001b[0;32m     57\u001b[0m         algorithm \u001b[39m=\u001b[39m algorithm, \n\u001b[0;32m     58\u001b[0m         length\u001b[39m=\u001b[39m\u001b[39m32\u001b[39m,\n\u001b[1;32m   (...)\u001b[0m\n\u001b[0;32m     61\u001b[0m         backend\u001b[39m=\u001b[39mdefault_backend()\n\u001b[0;32m     62\u001b[0m     )\u001b[39m.\u001b[39mderive(\u001b[39mself\u001b[39m\u001b[39m.\u001b[39mshared_secret_iv)\n\u001b[0;32m     63\u001b[0m     \u001b[39mreturn\u001b[39;00m \u001b[39mself\u001b[39m\u001b[39m.\u001b[39mcommon_private_iv\n",
      "File \u001b[1;32mc:\\Users\\joana\\anaconda3\\envs\\sp\\lib\\site-packages\\cryptography\\hazmat\\backends\\openssl\\dh.py:170\u001b[0m, in \u001b[0;36m_DHPrivateKey.exchange\u001b[1;34m(self, peer_public_key)\u001b[0m\n\u001b[0;32m    165\u001b[0m res \u001b[39m=\u001b[39m \u001b[39mself\u001b[39m\u001b[39m.\u001b[39m_backend\u001b[39m.\u001b[39m_lib\u001b[39m.\u001b[39mEVP_PKEY_derive_set_peer(\n\u001b[0;32m    166\u001b[0m     ctx, peer_public_key\u001b[39m.\u001b[39m_evp_pkey\n\u001b[0;32m    167\u001b[0m )\n\u001b[0;32m    168\u001b[0m \u001b[39m# Invalid kex errors here in OpenSSL 3.0 because checks were moved\u001b[39;00m\n\u001b[0;32m    169\u001b[0m \u001b[39m# to EVP_PKEY_derive_set_peer\u001b[39;00m\n\u001b[1;32m--> 170\u001b[0m \u001b[39mself\u001b[39;49m\u001b[39m.\u001b[39;49m_exchange_assert(res \u001b[39m==\u001b[39;49m \u001b[39m1\u001b[39;49m)\n\u001b[0;32m    171\u001b[0m keylen \u001b[39m=\u001b[39m \u001b[39mself\u001b[39m\u001b[39m.\u001b[39m_backend\u001b[39m.\u001b[39m_ffi\u001b[39m.\u001b[39mnew(\u001b[39m\"\u001b[39m\u001b[39msize_t *\u001b[39m\u001b[39m\"\u001b[39m)\n\u001b[0;32m    172\u001b[0m res \u001b[39m=\u001b[39m \u001b[39mself\u001b[39m\u001b[39m.\u001b[39m_backend\u001b[39m.\u001b[39m_lib\u001b[39m.\u001b[39mEVP_PKEY_derive(\n\u001b[0;32m    173\u001b[0m     ctx, \u001b[39mself\u001b[39m\u001b[39m.\u001b[39m_backend\u001b[39m.\u001b[39m_ffi\u001b[39m.\u001b[39mNULL, keylen\n\u001b[0;32m    174\u001b[0m )\n",
      "File \u001b[1;32mc:\\Users\\joana\\anaconda3\\envs\\sp\\lib\\site-packages\\cryptography\\hazmat\\backends\\openssl\\dh.py:193\u001b[0m, in \u001b[0;36m_DHPrivateKey._exchange_assert\u001b[1;34m(self, ok)\u001b[0m\n\u001b[0;32m    191\u001b[0m \u001b[39mif\u001b[39;00m \u001b[39mnot\u001b[39;00m ok:\n\u001b[0;32m    192\u001b[0m     errors_with_text \u001b[39m=\u001b[39m \u001b[39mself\u001b[39m\u001b[39m.\u001b[39m_backend\u001b[39m.\u001b[39m_consume_errors_with_text()\n\u001b[1;32m--> 193\u001b[0m     \u001b[39mraise\u001b[39;00m \u001b[39mValueError\u001b[39;00m(\n\u001b[0;32m    194\u001b[0m         \u001b[39m\"\u001b[39m\u001b[39mError computing shared key.\u001b[39m\u001b[39m\"\u001b[39m,\n\u001b[0;32m    195\u001b[0m         errors_with_text,\n\u001b[0;32m    196\u001b[0m     )\n",
      "\u001b[1;31mValueError\u001b[0m: ('Error computing shared key.', [_OpenSSLErrorWithText(code=478150859, lib=57, reason=203, reason_text=b'error:1C8000CB:Provider routines::mismatching domain parameters')])"
     ]
    }
   ],
   "source": [
    "iv = dh.calculate_private_iv()"
   ]
  }
 ],
 "metadata": {
  "kernelspec": {
   "display_name": "Python 3.10.4 ('sp')",
   "language": "python",
   "name": "python3"
  },
  "language_info": {
   "codemirror_mode": {
    "name": "ipython",
    "version": 3
   },
   "file_extension": ".py",
   "mimetype": "text/x-python",
   "name": "python",
   "nbconvert_exporter": "python",
   "pygments_lexer": "ipython3",
   "version": "3.10.4"
  },
  "orig_nbformat": 4,
  "vscode": {
   "interpreter": {
    "hash": "be7c57b8279e6e53d85f01aa2012720929078fc96e987919034ddf7c36c3eb3c"
   }
  }
 },
 "nbformat": 4,
 "nbformat_minor": 2
}
