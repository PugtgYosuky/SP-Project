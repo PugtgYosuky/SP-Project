{
 "cells": [
  {
   "cell_type": "markdown",
   "metadata": {},
   "source": [
    "# Delentture side"
   ]
  },
  {
   "cell_type": "code",
   "execution_count": 1,
   "metadata": {},
   "outputs": [],
   "source": [
    "# Adding the parent directory to the path.\n",
    "import sys\n",
    "sys.path.append('..')"
   ]
  },
  {
   "cell_type": "code",
   "execution_count": 2,
   "metadata": {},
   "outputs": [],
   "source": [
    "#Importing the modules\n",
    "from common.communication import CommunicationViaJson\n",
    "from dh import DH\n",
    "from decryption import Decryption\n",
    "import os"
   ]
  },
  {
   "cell_type": "code",
   "execution_count": 3,
   "metadata": {},
   "outputs": [],
   "source": [
    "# Creating an instance of the CommunicationViaJson class\n",
    "communication = CommunicationViaJson()"
   ]
  },
  {
   "cell_type": "code",
   "execution_count": 4,
   "metadata": {},
   "outputs": [],
   "source": [
    "#Creating a new instance of the DH class\n",
    "dh = DH(communication)"
   ]
  },
  {
   "cell_type": "code",
   "execution_count": 5,
   "metadata": {},
   "outputs": [],
   "source": [
    "# Calculating the private key using the Diffie-Hellman algorithm.\n",
    "key = dh.calculate_private_key()"
   ]
  },
  {
   "cell_type": "code",
   "execution_count": 6,
   "metadata": {},
   "outputs": [],
   "source": [
    "# Creating an instance of the Decryption class\n",
    "decryption_algo = Decryption(communication, key)"
   ]
  },
  {
   "cell_type": "code",
   "execution_count": 7,
   "metadata": {},
   "outputs": [],
   "source": [
    "# authenticated decryption of the file\n",
    "try:\n",
    "    infringement_data = decryption_algo.decrypt_authenticated('infringement_dataset')\n",
    "    path = os.path.join('dataset', 'infringement_dataset.csv')\n",
    "    infringement_data.to_csv(path, index=False)\n",
    "except:\n",
    "    print(\"Error decrypting file\")"
   ]
  },
  {
   "cell_type": "code",
   "execution_count": 8,
   "metadata": {},
   "outputs": [],
   "source": [
    "# authenticated decryption of the file\n",
    "try:\n",
    "    columns_description = decryption_algo.decrypt_authenticated('columns_description')\n",
    "    path = os.path.join('dataset', 'columns_description.csv')\n",
    "    columns_description.to_csv(path, index=False)\n",
    "except:\n",
    "    print(\"Error decrypting file\")"
   ]
  }
 ],
 "metadata": {
  "kernelspec": {
   "display_name": "Python 3.10.4 ('sp')",
   "language": "python",
   "name": "python3"
  },
  "language_info": {
   "codemirror_mode": {
    "name": "ipython",
    "version": 3
   },
   "file_extension": ".py",
   "mimetype": "text/x-python",
   "name": "python",
   "nbconvert_exporter": "python",
   "pygments_lexer": "ipython3",
   "version": "3.10.4"
  },
  "orig_nbformat": 4,
  "vscode": {
   "interpreter": {
    "hash": "be7c57b8279e6e53d85f01aa2012720929078fc96e987919034ddf7c36c3eb3c"
   }
  }
 },
 "nbformat": 4,
 "nbformat_minor": 2
}
