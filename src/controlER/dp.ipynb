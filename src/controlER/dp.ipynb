{
 "cells": [
  {
   "cell_type": "markdown",
   "metadata": {},
   "source": [
    "# Differential Privacy"
   ]
  },
  {
   "cell_type": "markdown",
   "metadata": {},
   "source": [
    "Python 3.9"
   ]
  },
  {
   "cell_type": "code",
   "execution_count": 3,
   "metadata": {},
   "outputs": [],
   "source": [
    "import pandas as pd\n",
    "import os\n",
    "import numpy as np\n",
    "import seaborn as sns\n",
    "import matplotlib.pyplot as plt"
   ]
  },
  {
   "cell_type": "code",
   "execution_count": 22,
   "metadata": {},
   "outputs": [],
   "source": [
    "data = pd.read_csv(os.path.join('dataset', 'infringement_dataset.csv'))\n",
    "data = data.dropna()"
   ]
  },
  {
   "cell_type": "code",
   "execution_count": 5,
   "metadata": {},
   "outputs": [
    {
     "data": {
      "text/html": [
       "<div>\n",
       "<style scoped>\n",
       "    .dataframe tbody tr th:only-of-type {\n",
       "        vertical-align: middle;\n",
       "    }\n",
       "\n",
       "    .dataframe tbody tr th {\n",
       "        vertical-align: top;\n",
       "    }\n",
       "\n",
       "    .dataframe thead th {\n",
       "        text-align: right;\n",
       "    }\n",
       "</style>\n",
       "<table border=\"1\" class=\"dataframe\">\n",
       "  <thead>\n",
       "    <tr style=\"text-align: right;\">\n",
       "      <th></th>\n",
       "      <th>loan_id</th>\n",
       "      <th>infringed</th>\n",
       "      <th>contract_type</th>\n",
       "      <th>gender</th>\n",
       "      <th>has_own_car</th>\n",
       "      <th>has_own_realty</th>\n",
       "      <th>num_children</th>\n",
       "      <th>annual_income</th>\n",
       "      <th>credit_amount</th>\n",
       "      <th>credit_annuity</th>\n",
       "      <th>...</th>\n",
       "      <th>SK_ID_CURR</th>\n",
       "      <th>avg_days_decision</th>\n",
       "      <th>past_avg_amount_annuity</th>\n",
       "      <th>past_avg_amt_application</th>\n",
       "      <th>past_avg_amt_credit</th>\n",
       "      <th>past_loans_approved</th>\n",
       "      <th>past_loans_refused</th>\n",
       "      <th>past_loans_canceled</th>\n",
       "      <th>past_loans_unused</th>\n",
       "      <th>past_loans_total</th>\n",
       "    </tr>\n",
       "  </thead>\n",
       "  <tbody>\n",
       "    <tr>\n",
       "      <th>0</th>\n",
       "      <td>100002</td>\n",
       "      <td>1</td>\n",
       "      <td>Cash loans</td>\n",
       "      <td>M</td>\n",
       "      <td>N</td>\n",
       "      <td>Y</td>\n",
       "      <td>0</td>\n",
       "      <td>202500.0</td>\n",
       "      <td>406597.5</td>\n",
       "      <td>24700.5</td>\n",
       "      <td>...</td>\n",
       "      <td>100002.0</td>\n",
       "      <td>606.000000</td>\n",
       "      <td>9251.775</td>\n",
       "      <td>179055.00</td>\n",
       "      <td>179055.00</td>\n",
       "      <td>1.0</td>\n",
       "      <td>0.0</td>\n",
       "      <td>0.0</td>\n",
       "      <td>0.0</td>\n",
       "      <td>1.0</td>\n",
       "    </tr>\n",
       "    <tr>\n",
       "      <th>1</th>\n",
       "      <td>100003</td>\n",
       "      <td>0</td>\n",
       "      <td>Cash loans</td>\n",
       "      <td>F</td>\n",
       "      <td>N</td>\n",
       "      <td>N</td>\n",
       "      <td>0</td>\n",
       "      <td>270000.0</td>\n",
       "      <td>1293502.5</td>\n",
       "      <td>35698.5</td>\n",
       "      <td>...</td>\n",
       "      <td>100003.0</td>\n",
       "      <td>1305.000000</td>\n",
       "      <td>56553.990</td>\n",
       "      <td>435436.50</td>\n",
       "      <td>484191.00</td>\n",
       "      <td>3.0</td>\n",
       "      <td>0.0</td>\n",
       "      <td>0.0</td>\n",
       "      <td>0.0</td>\n",
       "      <td>3.0</td>\n",
       "    </tr>\n",
       "    <tr>\n",
       "      <th>2</th>\n",
       "      <td>100004</td>\n",
       "      <td>0</td>\n",
       "      <td>Revolving loans</td>\n",
       "      <td>M</td>\n",
       "      <td>Y</td>\n",
       "      <td>Y</td>\n",
       "      <td>0</td>\n",
       "      <td>67500.0</td>\n",
       "      <td>135000.0</td>\n",
       "      <td>6750.0</td>\n",
       "      <td>...</td>\n",
       "      <td>100004.0</td>\n",
       "      <td>815.000000</td>\n",
       "      <td>5357.250</td>\n",
       "      <td>24282.00</td>\n",
       "      <td>20106.00</td>\n",
       "      <td>1.0</td>\n",
       "      <td>0.0</td>\n",
       "      <td>0.0</td>\n",
       "      <td>0.0</td>\n",
       "      <td>1.0</td>\n",
       "    </tr>\n",
       "    <tr>\n",
       "      <th>3</th>\n",
       "      <td>100006</td>\n",
       "      <td>0</td>\n",
       "      <td>Cash loans</td>\n",
       "      <td>F</td>\n",
       "      <td>N</td>\n",
       "      <td>Y</td>\n",
       "      <td>0</td>\n",
       "      <td>135000.0</td>\n",
       "      <td>312682.5</td>\n",
       "      <td>29686.5</td>\n",
       "      <td>...</td>\n",
       "      <td>100006.0</td>\n",
       "      <td>272.444444</td>\n",
       "      <td>23651.175</td>\n",
       "      <td>272203.26</td>\n",
       "      <td>291695.50</td>\n",
       "      <td>5.0</td>\n",
       "      <td>3.0</td>\n",
       "      <td>1.0</td>\n",
       "      <td>0.0</td>\n",
       "      <td>9.0</td>\n",
       "    </tr>\n",
       "    <tr>\n",
       "      <th>4</th>\n",
       "      <td>100007</td>\n",
       "      <td>0</td>\n",
       "      <td>Cash loans</td>\n",
       "      <td>M</td>\n",
       "      <td>N</td>\n",
       "      <td>Y</td>\n",
       "      <td>0</td>\n",
       "      <td>121500.0</td>\n",
       "      <td>513000.0</td>\n",
       "      <td>21865.5</td>\n",
       "      <td>...</td>\n",
       "      <td>100007.0</td>\n",
       "      <td>1222.833333</td>\n",
       "      <td>12278.805</td>\n",
       "      <td>150530.25</td>\n",
       "      <td>166638.75</td>\n",
       "      <td>6.0</td>\n",
       "      <td>0.0</td>\n",
       "      <td>0.0</td>\n",
       "      <td>0.0</td>\n",
       "      <td>6.0</td>\n",
       "    </tr>\n",
       "  </tbody>\n",
       "</table>\n",
       "<p>5 rows × 69 columns</p>\n",
       "</div>"
      ],
      "text/plain": [
       "   loan_id  infringed    contract_type gender has_own_car has_own_realty  \\\n",
       "0   100002          1       Cash loans      M           N              Y   \n",
       "1   100003          0       Cash loans      F           N              N   \n",
       "2   100004          0  Revolving loans      M           Y              Y   \n",
       "3   100006          0       Cash loans      F           N              Y   \n",
       "4   100007          0       Cash loans      M           N              Y   \n",
       "\n",
       "   num_children  annual_income  credit_amount  credit_annuity  ...  \\\n",
       "0             0       202500.0       406597.5         24700.5  ...   \n",
       "1             0       270000.0      1293502.5         35698.5  ...   \n",
       "2             0        67500.0       135000.0          6750.0  ...   \n",
       "3             0       135000.0       312682.5         29686.5  ...   \n",
       "4             0       121500.0       513000.0         21865.5  ...   \n",
       "\n",
       "   SK_ID_CURR avg_days_decision past_avg_amount_annuity  \\\n",
       "0    100002.0        606.000000                9251.775   \n",
       "1    100003.0       1305.000000               56553.990   \n",
       "2    100004.0        815.000000                5357.250   \n",
       "3    100006.0        272.444444               23651.175   \n",
       "4    100007.0       1222.833333               12278.805   \n",
       "\n",
       "  past_avg_amt_application past_avg_amt_credit  past_loans_approved  \\\n",
       "0                179055.00           179055.00                  1.0   \n",
       "1                435436.50           484191.00                  3.0   \n",
       "2                 24282.00            20106.00                  1.0   \n",
       "3                272203.26           291695.50                  5.0   \n",
       "4                150530.25           166638.75                  6.0   \n",
       "\n",
       "   past_loans_refused  past_loans_canceled  past_loans_unused  \\\n",
       "0                 0.0                  0.0                0.0   \n",
       "1                 0.0                  0.0                0.0   \n",
       "2                 0.0                  0.0                0.0   \n",
       "3                 3.0                  1.0                0.0   \n",
       "4                 0.0                  0.0                0.0   \n",
       "\n",
       "   past_loans_total  \n",
       "0               1.0  \n",
       "1               3.0  \n",
       "2               1.0  \n",
       "3               9.0  \n",
       "4               6.0  \n",
       "\n",
       "[5 rows x 69 columns]"
      ]
     },
     "execution_count": 5,
     "metadata": {},
     "output_type": "execute_result"
    }
   ],
   "source": [
    "data.head()"
   ]
  },
  {
   "cell_type": "markdown",
   "metadata": {},
   "source": [
    "## functions"
   ]
  },
  {
   "cell_type": "code",
   "execution_count": 54,
   "metadata": {},
   "outputs": [],
   "source": [
    "def calculate_sensitivity(data, function):\n",
    "    data = data.to_numpy()\n",
    "    results = []\n",
    "    for i in range(len(data)):\n",
    "        array_prev = data[:i]\n",
    "        array_pos = data[i+1:]\n",
    "        data_without = np.concatenate((array_prev, array_pos), axis=None)\n",
    "        res = np.abs(function(data) - (function(data_without)))\n",
    "        results.append(res)\n",
    "    \n",
    "    return np.max(np.array(results))"
   ]
  },
  {
   "cell_type": "code",
   "execution_count": 55,
   "metadata": {},
   "outputs": [],
   "source": [
    "def add_noise(data, sensitivity, epsilon):\n",
    "    return data + np.random.laplace(loc=0, scale=sensitivity/epsilon)"
   ]
  },
  {
   "cell_type": "code",
   "execution_count": 56,
   "metadata": {},
   "outputs": [],
   "source": [
    "def error(original, predicted):\n",
    "    return (original - predicted) / original * 100"
   ]
  },
  {
   "cell_type": "code",
   "execution_count": 57,
   "metadata": {},
   "outputs": [],
   "source": [
    "def count_total (epsilon, infringed=True):\n",
    "    count = data[data.infringed == infringed].shape[0]\n",
    "    res = add_noise(count, calculate_sensitivity(data.infringed, len), epsilon)\n",
    "    print(f\"Percentage error: {np.abs(error(count, res))} %\")\n",
    "    return res"
   ]
  },
  {
   "cell_type": "code",
   "execution_count": 58,
   "metadata": {},
   "outputs": [],
   "source": [
    "def average(variable, infringed=True, epsilon=0.01):\n",
    "    selected_data = data[data.infringed == infringed][variable]\n",
    "    mean = selected_data.mean()\n",
    "    sens1 = calculate_sensitivity(selected_data, np.sum)\n",
    "    sens2 = calculate_sensitivity(selected_data, len)\n",
    "    res = add_noise(selected_data.sum(), sens1, epsilon) / add_noise(selected_data.shape[0], sens2, epsilon)\n",
    "    print(f\"Percentage error: {np.abs(error(mean, res))} %\")\n",
    "    return res"
   ]
  },
  {
   "attachments": {},
   "cell_type": "markdown",
   "metadata": {},
   "source": [
    "## Analysis - 1"
   ]
  },
  {
   "cell_type": "markdown",
   "metadata": {},
   "source": [
    "### Average age of of people who infringed and don't"
   ]
  },
  {
   "cell_type": "code",
   "execution_count": 63,
   "metadata": {},
   "outputs": [],
   "source": [
    "def average_age(infringed=True, epsilon=0.01):\n",
    "    return average('age', infringed, epsilon)"
   ]
  },
  {
   "cell_type": "code",
   "execution_count": 64,
   "metadata": {},
   "outputs": [
    {
     "name": "stdout",
     "output_type": "stream",
     "text": [
      "Percentage error: 0.16054592831314604 %\n",
      "Mean age of the people who infringed 40.21529188277272\n",
      "Percentage error: 0.03205750118189382 %\n",
      "Mean age of the people who not infringed 43.699110059813194\n"
     ]
    }
   ],
   "source": [
    "print('Mean age of the people who infringed', average_age())\n",
    "print('Mean age of the people who not infringed', average_age(infringed=False))"
   ]
  },
  {
   "attachments": {},
   "cell_type": "markdown",
   "metadata": {},
   "source": [
    "### Percentage poeple < 35"
   ]
  },
  {
   "cell_type": "code",
   "execution_count": 50,
   "metadata": {},
   "outputs": [],
   "source": [
    "def number_people_by_age(condition, infringed=True, epsilon=0.01):\n",
    "    selected_data = data.query(f'age {condition} & infringed == {infringed}')['age']\n",
    "    data_count = len(selected_data)\n",
    "    sensitivity = 1\n",
    "    res = add_noise(data_count, calculate_sensitivity(selected_data, len), epsilon) / count_total(epsilon, infringed) * 100\n",
    "    print(f\"Percentage error: {np.abs(error(data_count, res))} %\")\n",
    "    return res"
   ]
  },
  {
   "cell_type": "code",
   "execution_count": 88,
   "metadata": {},
   "outputs": [
    {
     "name": "stdout",
     "output_type": "stream",
     "text": [
      "Percentage error: 0.03737639520234489 %\n",
      "Percentage error: 99.60046257671958 %\n",
      "Percentage error: 0.016445473876584873 %\n",
      "Percentage error: 99.96464559452876 %\n",
      "Percentage people < 35 that infringed 36.80538743259325 %\n",
      "Percentage people < 35 that not infringed 26.596058603836763 %\n"
     ]
    }
   ],
   "source": [
    "less_35_infringed = number_people_by_age('<35')\n",
    "less_35_not_infringed = number_people_by_age('<35', infringed=False)\n",
    "print(f'Percentage people < 35 that infringed', less_35_infringed, '%')\n",
    "print(f'Percentage people < 35 that not infringed', less_35_not_infringed, '%')"
   ]
  },
  {
   "cell_type": "markdown",
   "metadata": {},
   "source": [
    "### Number people > 60"
   ]
  },
  {
   "cell_type": "code",
   "execution_count": 89,
   "metadata": {},
   "outputs": [
    {
     "name": "stdout",
     "output_type": "stream",
     "text": [
      "Percentage error: 0.8839908297550622 %\n",
      "Percentage error: 99.58227493129677 %\n",
      "Percentage error: 0.0035080465811559935 %\n",
      "Percentage error: 99.96458699295384 %\n"
     ]
    }
   ],
   "source": [
    "over_60_infringed = number_people_by_age('>60')\n",
    "over_60_not_infringed = number_people_by_age('>60', infringed=False)"
   ]
  },
  {
   "cell_type": "code",
   "execution_count": 90,
   "metadata": {},
   "outputs": [
    {
     "name": "stdout",
     "output_type": "stream",
     "text": [
      "Number people >60 that infringed 6.036127242761748\n",
      "Number people >60 that not infringed 9.888373957500987\n"
     ]
    }
   ],
   "source": [
    "print(f'Number people >60 that infringed', over_60_infringed)\n",
    "print(f'Number people >60 that not infringed', over_60_not_infringed)"
   ]
  },
  {
   "cell_type": "code",
   "execution_count": 91,
   "metadata": {},
   "outputs": [],
   "source": [
    "between_infringed = 100 - over_60_infringed - less_35_infringed\n",
    "between_not_infringed = 100 - over_60_not_infringed - less_35_not_infringed"
   ]
  },
  {
   "cell_type": "code",
   "execution_count": 92,
   "metadata": {},
   "outputs": [
    {
     "data": {
      "text/plain": [
       "([<matplotlib.patches.Wedge at 0x2102ef87730>,\n",
       "  <matplotlib.patches.Wedge at 0x2102ef87dc0>,\n",
       "  <matplotlib.patches.Wedge at 0x2102ef9f490>],\n",
       " [Text(0.44302664828761695, 1.0068402996041828, '<35'),\n",
       "  Text(-0.6248702564593822, -0.9052829185356288, '35-60'),\n",
       "  Text(1.0802813905646138, -0.2073454055429836, '>60')],\n",
       " [Text(0.24165089906597287, 0.5491856179659178, '36.8%'),\n",
       "  Text(-0.3408383217051176, -0.4937906828376157, '57.2%'),\n",
       "  Text(0.5892443948534257, -0.1130974939325365, '6.0%')])"
      ]
     },
     "execution_count": 92,
     "metadata": {},
     "output_type": "execute_result"
    },
    {
     "data": {
      "image/png": "[encoded data removed]",
      "text/plain": [
       "<Figure size 640x480 with 1 Axes>"
      ]
     },
     "metadata": {},
     "output_type": "display_data"
    }
   ],
   "source": [
    "plt.pie([less_35_infringed, between_infringed, over_60_infringed], labels=['<35', '35-60', '>60'], autopct='%1.1f%%')"
   ]
  },
  {
   "cell_type": "markdown",
   "metadata": {},
   "source": [
    "### Average credit amount"
   ]
  },
  {
   "cell_type": "code",
   "execution_count": 93,
   "metadata": {},
   "outputs": [],
   "source": [
    "def average_credit_amount(infringed=True, epsilon=0.01):\n",
    "    return average('credit_amount', infringed, epsilon)"
   ]
  },
  {
   "cell_type": "code",
   "execution_count": 94,
   "metadata": {},
   "outputs": [
    {
     "name": "stdout",
     "output_type": "stream",
     "text": [
      "Percentage error: 6.1624240055071615 %\n",
      "Average credit amount of people who infringed 592151.2055606454\n",
      "Percentage error: 0.9280605330485149 %\n",
      "Average credit amount of people who not infringed 608241.2228602935\n"
     ]
    }
   ],
   "source": [
    "print('Average credit amount of people who infringed', average_credit_amount())\n",
    "print('Average credit amount of people who not infringed', average_credit_amount(False))"
   ]
  },
  {
   "cell_type": "markdown",
   "metadata": {},
   "source": [
    "### Average annual income"
   ]
  },
  {
   "cell_type": "code",
   "execution_count": 95,
   "metadata": {},
   "outputs": [],
   "source": [
    "def average_income(infringed=True, epsilon=0.01):\n",
    "    return average('annual_income',infringed, epsilon)"
   ]
  },
  {
   "cell_type": "code",
   "execution_count": 96,
   "metadata": {},
   "outputs": [
    {
     "name": "stdout",
     "output_type": "stream",
     "text": [
      "Percentage error: 111.69963080390927 %\n",
      "Average income of people who infringed 350599.4864065841\n",
      "Percentage error: 2.6858824137881325 %\n",
      "Average income of people who not infringed 164536.49345784672\n"
     ]
    }
   ],
   "source": [
    "print('Average income of people who infringed', average_income())\n",
    "print('Average income of people who not infringed', average_income(False))"
   ]
  },
  {
   "cell_type": "markdown",
   "metadata": {},
   "source": [
    "### Average number family members"
   ]
  },
  {
   "cell_type": "code",
   "execution_count": 31,
   "metadata": {},
   "outputs": [],
   "source": [
    "def average_family_members(infringed=True, epsilon=0.01):\n",
    "    return average('num_family_members', infringed, epsilon)"
   ]
  },
  {
   "cell_type": "code",
   "execution_count": 33,
   "metadata": {},
   "outputs": [
    {
     "name": "stdout",
     "output_type": "stream",
     "text": [
      "Percentage error: 22.22199978720579 %\n",
      "Average no.family members of people who infringed 1.897250124181677\n",
      "Percentage error: 0.4256272836589865 %\n",
      "Average no.family members  of people who not infringed 2.473808530314866\n"
     ]
    }
   ],
   "source": [
    "print('Average no.family members of people who infringed', average_family_members())\n",
    "print('Average no.family members  of people who not infringed', average_family_members(False))"
   ]
  },
  {
   "attachments": {},
   "cell_type": "markdown",
   "metadata": {},
   "source": [
    "### Percentage female and male who requested loans"
   ]
  },
  {
   "cell_type": "markdown",
   "metadata": {},
   "source": [
    "https://becominghuman.ai/query-sensitivity-types-and-effects-on-differential-privacy-mechanism-c94fd14b9837"
   ]
  },
  {
   "cell_type": "code",
   "execution_count": 103,
   "metadata": {},
   "outputs": [],
   "source": [
    "def count_by_gender(infringed=True, epsilon=0.01):\n",
    "    females = data[(data.gender == 'F') & (data.infringed == infringed)]\n",
    "    males = data[(data.gender == 'M') & (data.infringed == infringed)]\n",
    "    count_females = females.shape[0]\n",
    "    count_males = males.shape[0]\n",
    "    res_female = add_noise(count_females, calculate_sensitivity(females, len), epsilon) / count_total(epsilon, infringed) * 100\n",
    "    res_male = add_noise(count_males, calculate_sensitivity(males, len), epsilon) / count_total(epsilon, infringed) * 100\n",
    "\n",
    "    return res_female, res_male"
   ]
  },
  {
   "cell_type": "code",
   "execution_count": 104,
   "metadata": {},
   "outputs": [
    {
     "name": "stdout",
     "output_type": "stream",
     "text": [
      "Percentage error: 1.2390668883849727 %\n",
      "Percentage error: 0.03547338678345388 %\n",
      "Number of females who made loans and were infringed 55.644271288144424\n",
      "Number of males who made loans and were infringed 44.72973811069526\n",
      "Percentage error: 0.0015647190162784788 %\n",
      "Percentage error: 0.04183861598191345 %\n",
      "Number of females who made loans and werent infringed 66.62537666338713\n",
      "Number of males who made loans and werent infringed 33.39252091823837\n"
     ]
    }
   ],
   "source": [
    "f, m = count_by_gender()\n",
    "print(f'Number of females who made loans and were infringed', f)\n",
    "print(f'Number of males who made loans and were infringed', m)\n",
    "f, m = count_by_gender(False)\n",
    "print(f'Number of females who made loans and werent infringed', f)\n",
    "print(f'Number of males who made loans and werent infringed', m)"
   ]
  },
  {
   "attachments": {},
   "cell_type": "markdown",
   "metadata": {},
   "source": [
    "## Analysis 2 - According to past values"
   ]
  },
  {
   "cell_type": "markdown",
   "metadata": {},
   "source": [
    "### Average loans "
   ]
  },
  {
   "cell_type": "code",
   "execution_count": 34,
   "metadata": {},
   "outputs": [],
   "source": [
    "def average_past_loans(infringed=True, epsilon=0.01):\n",
    "    return average('past_loans_total', infringed, epsilon)"
   ]
  },
  {
   "cell_type": "code",
   "execution_count": 35,
   "metadata": {},
   "outputs": [
    {
     "name": "stdout",
     "output_type": "stream",
     "text": [
      "Percentage error: 11.084137808251663 %\n",
      "Average loans of people who infringed 4.8397991433833125\n",
      "Percentage error: 5.270399795126464 %\n",
      "Average loans of people who not infringed 4.724761834604171\n"
     ]
    }
   ],
   "source": [
    "print('Average loans of people who infringed', average_past_loans())\n",
    "print('Average loans of people who not infringed', average_past_loans(False))"
   ]
  },
  {
   "cell_type": "markdown",
   "metadata": {},
   "source": [
    "### Average loans approved"
   ]
  },
  {
   "cell_type": "code",
   "execution_count": 36,
   "metadata": {},
   "outputs": [],
   "source": [
    "def average_loans_approved(infringed=True, epsilon=0.01):\n",
    "    return average('past_loans_approved', infringed, epsilon)"
   ]
  },
  {
   "cell_type": "code",
   "execution_count": 40,
   "metadata": {},
   "outputs": [
    {
     "name": "stdout",
     "output_type": "stream",
     "text": [
      "Percentage error: 23.940452927771112 %\n",
      "Average loans approved of people who infringed 3.7040557064896467\n",
      "Percentage error: 0.5045331154146948 %\n",
      "Average loans approved of people who not infringed 3.207386403414266\n"
     ]
    }
   ],
   "source": [
    "print('Average loans approved of people who infringed', average_loans_approved())\n",
    "print('Average loans approved of people who not infringed', average_loans_approved(False))"
   ]
  },
  {
   "attachments": {},
   "cell_type": "markdown",
   "metadata": {},
   "source": [
    "### Average loans refused"
   ]
  },
  {
   "cell_type": "code",
   "execution_count": 41,
   "metadata": {},
   "outputs": [],
   "source": [
    "def average_loans_refused(infringed=True, epsilon=0.01):\n",
    "    return average('past_loans_refused', infringed, epsilon)"
   ]
  },
  {
   "cell_type": "code",
   "execution_count": 42,
   "metadata": {},
   "outputs": [
    {
     "name": "stdout",
     "output_type": "stream",
     "text": [
      "Percentage error: 77.39782565095018 %\n",
      "Average loans refused of people who infringed 0.22096556931436617\n",
      "Percentage error: 9.510519207962997 %\n",
      "Average loans refused of people who not infringed 0.8558327556573528\n"
     ]
    }
   ],
   "source": [
    "print('Average loans refused of people who infringed', average_loans_refused())\n",
    "print('Average loans refused of people who not infringed', average_loans_refused(False))"
   ]
  },
  {
   "attachments": {},
   "cell_type": "markdown",
   "metadata": {},
   "source": [
    "### Average amount annuity in past loans"
   ]
  },
  {
   "cell_type": "code",
   "execution_count": 43,
   "metadata": {},
   "outputs": [],
   "source": [
    "def average_loans_amount_annuity(infringed=True, epsilon=0.01):\n",
    "    return average('past_avg_amount_annuity', infringed, epsilon)"
   ]
  },
  {
   "cell_type": "code",
   "execution_count": 44,
   "metadata": {},
   "outputs": [
    {
     "name": "stdout",
     "output_type": "stream",
     "text": [
      "Percentage error: 8.37376360978757 %\n",
      "Average loans amount annuity of people who infringed 13399.447176371625\n",
      "Percentage error: 1.3934740993777963 %\n",
      "Average loans ammount annuity of people who not infringed 15638.204246710224\n"
     ]
    }
   ],
   "source": [
    "print('Average loans amount annuity of people who infringed', average_loans_amount_annuity())\n",
    "print('Average loans ammount annuity of people who not infringed', average_loans_amount_annuity(False))"
   ]
  },
  {
   "attachments": {},
   "cell_type": "markdown",
   "metadata": {},
   "source": [
    "### Average amount application"
   ]
  },
  {
   "cell_type": "code",
   "execution_count": 45,
   "metadata": {},
   "outputs": [],
   "source": [
    "def average_loans_amount_application(infringed=True, epsilon=0.01):\n",
    "    return average('past_avg_amt_application', infringed, epsilon)"
   ]
  },
  {
   "cell_type": "code",
   "execution_count": 46,
   "metadata": {},
   "outputs": [
    {
     "name": "stdout",
     "output_type": "stream",
     "text": [
      "Percentage error: 48.02270859993485 %\n",
      "Average loans amount application of people who infringed 236824.3018215088\n",
      "Percentage error: 16.489181089781194 %\n",
      "Average loans ammount application of people who not infringed 194098.93886207265\n"
     ]
    }
   ],
   "source": [
    "print('Average loans amount application of people who infringed', average_loans_amount_application())\n",
    "print('Average loans ammount application of people who not infringed', average_loans_amount_application(False))"
   ]
  },
  {
   "attachments": {},
   "cell_type": "markdown",
   "metadata": {},
   "source": [
    "### Average loans canceled"
   ]
  },
  {
   "cell_type": "code",
   "execution_count": 64,
   "metadata": {},
   "outputs": [],
   "source": [
    "def average_loans_canceled(infringed=True, epsilon=0.01):\n",
    "    return average('past_loans_canceled', infringed, epsilon)"
   ]
  },
  {
   "cell_type": "code",
   "execution_count": 68,
   "metadata": {},
   "outputs": [
    {
     "name": "stdout",
     "output_type": "stream",
     "text": [
      "Percentage error: 49.751656054557884 %\n",
      "Average loans canceled of people who infringed 0.6720506734254752\n",
      "Percentage error: 46.77121852018704 %\n",
      "Average loans canceled of people who not infringed 1.2861032657986993\n"
     ]
    }
   ],
   "source": [
    "print('Average loans canceled of people who infringed', average_loans_canceled())\n",
    "print('Average loans canceled of people who not infringed', average_loans_canceled(False))"
   ]
  }
 ],
 "metadata": {
  "kernelspec": {
   "display_name": "Python 3.9.15 ('SP_project')",
   "language": "python",
   "name": "python3"
  },
  "language_info": {
   "codemirror_mode": {
    "name": "ipython",
    "version": 3
   },
   "file_extension": ".py",
   "mimetype": "text/x-python",
   "name": "python",
   "nbconvert_exporter": "python",
   "pygments_lexer": "ipython3",
   "version": "3.9.15 (main, Nov 24 2022, 14:39:17) [MSC v.1916 64 bit (AMD64)]"
  },
  "orig_nbformat": 4,
  "vscode": {
   "interpreter": {
    "hash": "5e394f5a2ecf3642d552b7bae0d597e81a508e6a7dcef796b3286c6b531fac3e"
   }
  }
 },
 "nbformat": 4,
 "nbformat_minor": 2
}
