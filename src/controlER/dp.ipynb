{
 "cells": [
  {
   "cell_type": "markdown",
   "metadata": {},
   "source": [
    "# Differential Privacy"
   ]
  },
  {
   "cell_type": "markdown",
   "metadata": {},
   "source": [
    "Python 3.9"
   ]
  },
  {
   "cell_type": "code",
   "execution_count": 3,
   "metadata": {},
   "outputs": [],
   "source": [
    "import pandas as pd\n",
    "import os\n",
    "import numpy as np\n",
    "import seaborn as sns\n",
    "import matplotlib.pyplot as plt"
   ]
  },
  {
   "cell_type": "code",
   "execution_count": 4,
   "metadata": {},
   "outputs": [],
   "source": [
    "data = pd.read_csv(os.path.join('dataset', 'infringement_dataset.csv'))\n",
    "data = data.dropna()"
   ]
  },
  {
   "cell_type": "code",
   "execution_count": 5,
   "metadata": {},
   "outputs": [
    {
     "data": {
      "text/html": [
       "<div>\n",
       "<style scoped>\n",
       "    .dataframe tbody tr th:only-of-type {\n",
       "        vertical-align: middle;\n",
       "    }\n",
       "\n",
       "    .dataframe tbody tr th {\n",
       "        vertical-align: top;\n",
       "    }\n",
       "\n",
       "    .dataframe thead th {\n",
       "        text-align: right;\n",
       "    }\n",
       "</style>\n",
       "<table border=\"1\" class=\"dataframe\">\n",
       "  <thead>\n",
       "    <tr style=\"text-align: right;\">\n",
       "      <th></th>\n",
       "      <th>loan_id</th>\n",
       "      <th>infringed</th>\n",
       "      <th>contract_type</th>\n",
       "      <th>gender</th>\n",
       "      <th>has_own_car</th>\n",
       "      <th>has_own_realty</th>\n",
       "      <th>num_children</th>\n",
       "      <th>annual_income</th>\n",
       "      <th>credit_amount</th>\n",
       "      <th>credit_annuity</th>\n",
       "      <th>...</th>\n",
       "      <th>SK_ID_CURR</th>\n",
       "      <th>avg_days_decision</th>\n",
       "      <th>past_avg_amount_annuity</th>\n",
       "      <th>past_avg_amt_application</th>\n",
       "      <th>past_avg_amt_credit</th>\n",
       "      <th>past_loans_approved</th>\n",
       "      <th>past_loans_refused</th>\n",
       "      <th>past_loans_canceled</th>\n",
       "      <th>past_loans_unused</th>\n",
       "      <th>past_loans_total</th>\n",
       "    </tr>\n",
       "  </thead>\n",
       "  <tbody>\n",
       "    <tr>\n",
       "      <th>6</th>\n",
       "      <td>100009</td>\n",
       "      <td>0</td>\n",
       "      <td>Cash loans</td>\n",
       "      <td>F</td>\n",
       "      <td>Y</td>\n",
       "      <td>Y</td>\n",
       "      <td>1</td>\n",
       "      <td>171000.0</td>\n",
       "      <td>1560726.0</td>\n",
       "      <td>41301.0</td>\n",
       "      <td>...</td>\n",
       "      <td>100009.0</td>\n",
       "      <td>719.285714</td>\n",
       "      <td>10051.412143</td>\n",
       "      <td>76741.714286</td>\n",
       "      <td>70137.642857</td>\n",
       "      <td>7.0</td>\n",
       "      <td>0.0</td>\n",
       "      <td>0.0</td>\n",
       "      <td>0.0</td>\n",
       "      <td>7.0</td>\n",
       "    </tr>\n",
       "    <tr>\n",
       "      <th>15</th>\n",
       "      <td>100019</td>\n",
       "      <td>0</td>\n",
       "      <td>Cash loans</td>\n",
       "      <td>M</td>\n",
       "      <td>Y</td>\n",
       "      <td>Y</td>\n",
       "      <td>0</td>\n",
       "      <td>157500.0</td>\n",
       "      <td>299772.0</td>\n",
       "      <td>20160.0</td>\n",
       "      <td>...</td>\n",
       "      <td>100019.0</td>\n",
       "      <td>925.000000</td>\n",
       "      <td>10518.615000</td>\n",
       "      <td>84136.500000</td>\n",
       "      <td>104683.500000</td>\n",
       "      <td>1.0</td>\n",
       "      <td>0.0</td>\n",
       "      <td>0.0</td>\n",
       "      <td>0.0</td>\n",
       "      <td>1.0</td>\n",
       "    </tr>\n",
       "    <tr>\n",
       "      <th>21</th>\n",
       "      <td>100025</td>\n",
       "      <td>0</td>\n",
       "      <td>Cash loans</td>\n",
       "      <td>F</td>\n",
       "      <td>Y</td>\n",
       "      <td>Y</td>\n",
       "      <td>1</td>\n",
       "      <td>202500.0</td>\n",
       "      <td>1132573.5</td>\n",
       "      <td>37561.5</td>\n",
       "      <td>...</td>\n",
       "      <td>100025.0</td>\n",
       "      <td>731.000000</td>\n",
       "      <td>27645.595714</td>\n",
       "      <td>259795.344375</td>\n",
       "      <td>295425.781875</td>\n",
       "      <td>7.0</td>\n",
       "      <td>1.0</td>\n",
       "      <td>0.0</td>\n",
       "      <td>0.0</td>\n",
       "      <td>8.0</td>\n",
       "    </tr>\n",
       "    <tr>\n",
       "      <th>51</th>\n",
       "      <td>100059</td>\n",
       "      <td>0</td>\n",
       "      <td>Cash loans</td>\n",
       "      <td>M</td>\n",
       "      <td>Y</td>\n",
       "      <td>Y</td>\n",
       "      <td>1</td>\n",
       "      <td>540000.0</td>\n",
       "      <td>675000.0</td>\n",
       "      <td>34596.0</td>\n",
       "      <td>...</td>\n",
       "      <td>100059.0</td>\n",
       "      <td>1106.500000</td>\n",
       "      <td>25907.202692</td>\n",
       "      <td>186235.560000</td>\n",
       "      <td>225695.225000</td>\n",
       "      <td>6.0</td>\n",
       "      <td>4.0</td>\n",
       "      <td>8.0</td>\n",
       "      <td>0.0</td>\n",
       "      <td>18.0</td>\n",
       "    </tr>\n",
       "    <tr>\n",
       "      <th>66</th>\n",
       "      <td>100078</td>\n",
       "      <td>0</td>\n",
       "      <td>Cash loans</td>\n",
       "      <td>F</td>\n",
       "      <td>Y</td>\n",
       "      <td>Y</td>\n",
       "      <td>0</td>\n",
       "      <td>180000.0</td>\n",
       "      <td>1035000.0</td>\n",
       "      <td>43983.0</td>\n",
       "      <td>...</td>\n",
       "      <td>100078.0</td>\n",
       "      <td>612.727273</td>\n",
       "      <td>24960.538125</td>\n",
       "      <td>403363.636364</td>\n",
       "      <td>422988.136364</td>\n",
       "      <td>4.0</td>\n",
       "      <td>3.0</td>\n",
       "      <td>4.0</td>\n",
       "      <td>0.0</td>\n",
       "      <td>11.0</td>\n",
       "    </tr>\n",
       "  </tbody>\n",
       "</table>\n",
       "<p>5 rows × 69 columns</p>\n",
       "</div>"
      ],
      "text/plain": [
       "    loan_id  infringed contract_type gender has_own_car has_own_realty  \\\n",
       "6    100009          0    Cash loans      F           Y              Y   \n",
       "15   100019          0    Cash loans      M           Y              Y   \n",
       "21   100025          0    Cash loans      F           Y              Y   \n",
       "51   100059          0    Cash loans      M           Y              Y   \n",
       "66   100078          0    Cash loans      F           Y              Y   \n",
       "\n",
       "    num_children  annual_income  credit_amount  credit_annuity  ...  \\\n",
       "6              1       171000.0      1560726.0         41301.0  ...   \n",
       "15             0       157500.0       299772.0         20160.0  ...   \n",
       "21             1       202500.0      1132573.5         37561.5  ...   \n",
       "51             1       540000.0       675000.0         34596.0  ...   \n",
       "66             0       180000.0      1035000.0         43983.0  ...   \n",
       "\n",
       "    SK_ID_CURR avg_days_decision past_avg_amount_annuity  \\\n",
       "6     100009.0        719.285714            10051.412143   \n",
       "15    100019.0        925.000000            10518.615000   \n",
       "21    100025.0        731.000000            27645.595714   \n",
       "51    100059.0       1106.500000            25907.202692   \n",
       "66    100078.0        612.727273            24960.538125   \n",
       "\n",
       "   past_avg_amt_application past_avg_amt_credit  past_loans_approved  \\\n",
       "6              76741.714286        70137.642857                  7.0   \n",
       "15             84136.500000       104683.500000                  1.0   \n",
       "21            259795.344375       295425.781875                  7.0   \n",
       "51            186235.560000       225695.225000                  6.0   \n",
       "66            403363.636364       422988.136364                  4.0   \n",
       "\n",
       "    past_loans_refused  past_loans_canceled  past_loans_unused  \\\n",
       "6                  0.0                  0.0                0.0   \n",
       "15                 0.0                  0.0                0.0   \n",
       "21                 1.0                  0.0                0.0   \n",
       "51                 4.0                  8.0                0.0   \n",
       "66                 3.0                  4.0                0.0   \n",
       "\n",
       "    past_loans_total  \n",
       "6                7.0  \n",
       "15               1.0  \n",
       "21               8.0  \n",
       "51              18.0  \n",
       "66              11.0  \n",
       "\n",
       "[5 rows x 69 columns]"
      ]
     },
     "execution_count": 5,
     "metadata": {},
     "output_type": "execute_result"
    }
   ],
   "source": [
    "data.head()"
   ]
  },
  {
   "cell_type": "markdown",
   "metadata": {},
   "source": [
    "## functions"
   ]
  },
  {
   "cell_type": "code",
   "execution_count": 6,
   "metadata": {},
   "outputs": [],
   "source": [
    "def calculate_sensitivity(data, function):\n",
    "    data = data.to_numpy()\n",
    "    results = []\n",
    "    for i in range(len(data)):\n",
    "        array_prev = data[:i]\n",
    "        array_pos = data[i+1:]\n",
    "        data_without = np.concatenate((array_prev, array_pos), axis=None)\n",
    "        res = np.abs(function(data) - (function(data_without)))\n",
    "        results.append(res)\n",
    "    \n",
    "    return np.max(np.array(results))"
   ]
  },
  {
   "cell_type": "code",
   "execution_count": 7,
   "metadata": {},
   "outputs": [],
   "source": [
    "def add_noise(data, sensitivity, epsilon):\n",
    "    return data + np.random.laplace(loc=0, scale=sensitivity/epsilon)"
   ]
  },
  {
   "cell_type": "code",
   "execution_count": 8,
   "metadata": {},
   "outputs": [],
   "source": [
    "def error(original, predicted):\n",
    "    return (original - predicted) / original * 100"
   ]
  },
  {
   "cell_type": "code",
   "execution_count": 9,
   "metadata": {},
   "outputs": [],
   "source": [
    "def count_total (epsilon, infringed=True):\n",
    "    count = data[data.infringed == infringed].shape[0]\n",
    "    res = add_noise(count, calculate_sensitivity(data.infringed, len), epsilon)\n",
    "    print(f\"Percentage error: {np.abs(error(count, res))} %\")\n",
    "    return res"
   ]
  },
  {
   "cell_type": "code",
   "execution_count": 10,
   "metadata": {},
   "outputs": [],
   "source": [
    "def average(variable, infringed=True, epsilon=0.01):\n",
    "    selected_data = data[data.infringed == infringed][variable]\n",
    "    mean = selected_data.mean()\n",
    "    sens1 = calculate_sensitivity(selected_data, np.sum)\n",
    "    sens2 = calculate_sensitivity(selected_data, len)\n",
    "    res = add_noise(selected_data.sum(), sens1, epsilon) / add_noise(selected_data.shape[0], sens2, epsilon)\n",
    "    print(f\"Percentage error: {np.abs(error(mean, res))} %\")\n",
    "    return res"
   ]
  },
  {
   "attachments": {},
   "cell_type": "markdown",
   "metadata": {},
   "source": [
    "## Analysis - 1"
   ]
  },
  {
   "cell_type": "markdown",
   "metadata": {},
   "source": [
    "### Average age of of people who infringed and don't"
   ]
  },
  {
   "cell_type": "code",
   "execution_count": 11,
   "metadata": {},
   "outputs": [],
   "source": [
    "def average_age(infringed=True, epsilon=0.01):\n",
    "    return average('age', infringed, epsilon)"
   ]
  },
  {
   "cell_type": "code",
   "execution_count": 12,
   "metadata": {},
   "outputs": [
    {
     "name": "stdout",
     "output_type": "stream",
     "text": [
      "Percentage error: 11.358030842578195 %\n",
      "Mean age of the people who infringed 32.198003418456935\n",
      "Percentage error: 0.1622283174899125 %\n",
      "Mean age of the people who not infringed 37.99361630279948\n"
     ]
    }
   ],
   "source": [
    "print('Mean age of the people who infringed', average_age())\n",
    "print('Mean age of the people who not infringed', average_age(infringed=False))"
   ]
  },
  {
   "attachments": {},
   "cell_type": "markdown",
   "metadata": {},
   "source": [
    "Ao comparar com as análise feita ao dataset original, observar-se que a média das pessoas que pediram mais empréstimos / cometeram infrações nnos empréstimos, está de acordo com a distribuição das idades das pessoas. Pelo que todas as médias \"caem\" na classe 30-40 que aparecem em maior quantidade no dataset."
   ]
  },
  {
   "attachments": {},
   "cell_type": "markdown",
   "metadata": {},
   "source": [
    "### Percentage poeple < 35"
   ]
  },
  {
   "cell_type": "code",
   "execution_count": 14,
   "metadata": {},
   "outputs": [],
   "source": [
    "def number_people_by_age(condition, infringed=True, epsilon=0.01):\n",
    "    selected_data = data.query(f'age {condition} & infringed == {infringed}')['age']\n",
    "    data_count = len(selected_data)\n",
    "    sensitivity = 1\n",
    "    res = add_noise(data_count, calculate_sensitivity(selected_data, len), epsilon) / count_total(epsilon, infringed) * 100\n",
    "    print(f\"Percentage error: {np.abs(error(data_count, res))} %\")\n",
    "    return res"
   ]
  },
  {
   "cell_type": "code",
   "execution_count": 16,
   "metadata": {},
   "outputs": [
    {
     "name": "stdout",
     "output_type": "stream",
     "text": [
      "Percentage error: 3.2908990095936654 %\n",
      "Percentage error: 96.428039750714 %\n",
      "Percentage error: 0.3524018315535783 %\n",
      "Percentage error: 99.63669567223174 %\n",
      "Percentage people < 35 that infringed 18.645632501272857 %\n",
      "Percentage people < 35 that not infringed 40.41034037766463 %\n"
     ]
    }
   ],
   "source": [
    "less_35_infringed = number_people_by_age('<30')\n",
    "less_35_not_infringed = number_people_by_age('<35', infringed=False)\n",
    "print(f'Percentage people < 35 that infringed', less_35_infringed, '%')\n",
    "print(f'Percentage people < 35 that not infringed', less_35_not_infringed, '%')"
   ]
  },
  {
   "attachments": {},
   "cell_type": "markdown",
   "metadata": {},
   "source": [
    "### Number people > 50"
   ]
  },
  {
   "cell_type": "code",
   "execution_count": 23,
   "metadata": {},
   "outputs": [
    {
     "name": "stdout",
     "output_type": "stream",
     "text": [
      "Percentage error: 4.64382454795931 %\n",
      "Percentage error: 94.9386884583085 %\n",
      "Percentage error: 0.040554824259387987 %\n",
      "Percentage error: 99.65477080145781 %\n"
     ]
    }
   ],
   "source": [
    "over_60_infringed = number_people_by_age('>50')\n",
    "over_60_not_infringed = number_people_by_age('>50', infringed=False)"
   ]
  },
  {
   "cell_type": "code",
   "execution_count": 24,
   "metadata": {},
   "outputs": [
    {
     "name": "stdout",
     "output_type": "stream",
     "text": [
      "Percentage of people >50 that infringed 9.363426352129272\n",
      "Percentage of people >50 that not infringed 10.13938156118413\n"
     ]
    }
   ],
   "source": [
    "print(f'Percentage of people >50 that infringed', over_60_infringed)\n",
    "print(f'Percentage of people >50 that not infringed', over_60_not_infringed)"
   ]
  },
  {
   "cell_type": "code",
   "execution_count": 25,
   "metadata": {},
   "outputs": [],
   "source": [
    "between_infringed = 100 - over_60_infringed - less_35_infringed\n",
    "between_not_infringed = 100 - over_60_not_infringed - less_35_not_infringed"
   ]
  },
  {
   "cell_type": "code",
   "execution_count": 26,
   "metadata": {},
   "outputs": [
    {
     "data": {
      "text/plain": [
       "([<matplotlib.patches.Wedge at 0x1a5448bd760>,\n",
       "  <matplotlib.patches.Wedge at 0x1a5448bde20>,\n",
       "  <matplotlib.patches.Wedge at 0x1a5448c44f0>],\n",
       " [Text(0.916615423181791, 0.6081251236261057, '<30'),\n",
       "  Text(-1.053560745027858, -0.3162431920790471, '30-50'),\n",
       "  Text(1.0527504316851308, -0.3189302879733613, '>50')],\n",
       " [Text(0.4999720490082496, 0.3317046128869667, '18.6%'),\n",
       "  Text(-0.5746694972879225, -0.17249628658857113, '72.0%'),\n",
       "  Text(0.5742275081918894, -0.17396197525819707, '9.4%')])"
      ]
     },
     "execution_count": 26,
     "metadata": {},
     "output_type": "execute_result"
    },
    {
     "data": {
      "image/png": "[encoded data removed]",
      "text/plain": [
       "<Figure size 640x480 with 1 Axes>"
      ]
     },
     "metadata": {},
     "output_type": "display_data"
    }
   ],
   "source": [
    "plt.pie([less_35_infringed, between_infringed, over_60_infringed], labels=['<30', '30-50', '>50'], autopct='%1.1f%%')"
   ]
  },
  {
   "attachments": {},
   "cell_type": "markdown",
   "metadata": {},
   "source": [
    "Verifica-se que a distribuição das classes segue a distribuição original, onde a maior percentagem de pessoas que pediram empréstimos é entre os 30 e os 50 anos."
   ]
  },
  {
   "cell_type": "markdown",
   "metadata": {},
   "source": [
    "### Average credit amount"
   ]
  },
  {
   "cell_type": "code",
   "execution_count": 93,
   "metadata": {},
   "outputs": [],
   "source": [
    "def average_credit_amount(infringed=True, epsilon=0.01):\n",
    "    return average('credit_amount', infringed, epsilon)"
   ]
  },
  {
   "cell_type": "code",
   "execution_count": 94,
   "metadata": {},
   "outputs": [
    {
     "name": "stdout",
     "output_type": "stream",
     "text": [
      "Percentage error: 6.1624240055071615 %\n",
      "Average credit amount of people who infringed 592151.2055606454\n",
      "Percentage error: 0.9280605330485149 %\n",
      "Average credit amount of people who not infringed 608241.2228602935\n"
     ]
    }
   ],
   "source": [
    "print('Average credit amount of people who infringed', average_credit_amount())\n",
    "print('Average credit amount of people who not infringed', average_credit_amount(False))"
   ]
  },
  {
   "cell_type": "markdown",
   "metadata": {},
   "source": [
    "### Average annual income"
   ]
  },
  {
   "cell_type": "code",
   "execution_count": 95,
   "metadata": {},
   "outputs": [],
   "source": [
    "def average_income(infringed=True, epsilon=0.01):\n",
    "    return average('annual_income',infringed, epsilon)"
   ]
  },
  {
   "cell_type": "code",
   "execution_count": 96,
   "metadata": {},
   "outputs": [
    {
     "name": "stdout",
     "output_type": "stream",
     "text": [
      "Percentage error: 111.69963080390927 %\n",
      "Average income of people who infringed 350599.4864065841\n",
      "Percentage error: 2.6858824137881325 %\n",
      "Average income of people who not infringed 164536.49345784672\n"
     ]
    }
   ],
   "source": [
    "print('Average income of people who infringed', average_income())\n",
    "print('Average income of people who not infringed', average_income(False))"
   ]
  },
  {
   "cell_type": "markdown",
   "metadata": {},
   "source": [
    "### Average number family members"
   ]
  },
  {
   "cell_type": "code",
   "execution_count": 31,
   "metadata": {},
   "outputs": [],
   "source": [
    "def average_family_members(infringed=True, epsilon=0.01):\n",
    "    return average('num_family_members', infringed, epsilon)"
   ]
  },
  {
   "cell_type": "code",
   "execution_count": 33,
   "metadata": {},
   "outputs": [
    {
     "name": "stdout",
     "output_type": "stream",
     "text": [
      "Percentage error: 22.22199978720579 %\n",
      "Average no.family members of people who infringed 1.897250124181677\n",
      "Percentage error: 0.4256272836589865 %\n",
      "Average no.family members  of people who not infringed 2.473808530314866\n"
     ]
    }
   ],
   "source": [
    "print('Average no.family members of people who infringed', average_family_members())\n",
    "print('Average no.family members  of people who not infringed', average_family_members(False))"
   ]
  },
  {
   "attachments": {},
   "cell_type": "markdown",
   "metadata": {},
   "source": [
    "Observa-se que as médias do nº de pessoas por família é semelhante aos valores obtidos pelo dataset original."
   ]
  },
  {
   "attachments": {},
   "cell_type": "markdown",
   "metadata": {},
   "source": [
    "### Percentage female and male who requested loans"
   ]
  },
  {
   "cell_type": "markdown",
   "metadata": {},
   "source": [
    "https://becominghuman.ai/query-sensitivity-types-and-effects-on-differential-privacy-mechanism-c94fd14b9837"
   ]
  },
  {
   "cell_type": "code",
   "execution_count": 103,
   "metadata": {},
   "outputs": [],
   "source": [
    "def count_by_gender(infringed=True, epsilon=0.01):\n",
    "    females = data[(data.gender == 'F') & (data.infringed == infringed)]\n",
    "    males = data[(data.gender == 'M') & (data.infringed == infringed)]\n",
    "    count_females = females.shape[0]\n",
    "    count_males = males.shape[0]\n",
    "    res_female = add_noise(count_females, calculate_sensitivity(females, len), epsilon) / count_total(epsilon, infringed) * 100\n",
    "    res_male = add_noise(count_males, calculate_sensitivity(males, len), epsilon) / count_total(epsilon, infringed) * 100\n",
    "\n",
    "    return res_female, res_male"
   ]
  },
  {
   "cell_type": "code",
   "execution_count": 104,
   "metadata": {},
   "outputs": [
    {
     "name": "stdout",
     "output_type": "stream",
     "text": [
      "Percentage error: 1.2390668883849727 %\n",
      "Percentage error: 0.03547338678345388 %\n",
      "Number of females who made loans and were infringed 55.644271288144424\n",
      "Number of males who made loans and were infringed 44.72973811069526\n",
      "Percentage error: 0.0015647190162784788 %\n",
      "Percentage error: 0.04183861598191345 %\n",
      "Number of females who made loans and werent infringed 66.62537666338713\n",
      "Number of males who made loans and werent infringed 33.39252091823837\n"
     ]
    }
   ],
   "source": [
    "f, m = count_by_gender()\n",
    "print(f'Number of females who made loans and were infringed', f)\n",
    "print(f'Number of males who made loans and were infringed', m)\n",
    "f, m = count_by_gender(False)\n",
    "print(f'Number of females who made loans and werent infringed', f)\n",
    "print(f'Number of males who made loans and werent infringed', m)"
   ]
  },
  {
   "attachments": {},
   "cell_type": "markdown",
   "metadata": {},
   "source": [
    "Mais uma vez, observa-se que as médias obtidas são semelhantes às do dataset original."
   ]
  },
  {
   "attachments": {},
   "cell_type": "markdown",
   "metadata": {},
   "source": [
    "## Analysis 2 - According to past values"
   ]
  },
  {
   "cell_type": "markdown",
   "metadata": {},
   "source": [
    "### Average loans "
   ]
  },
  {
   "cell_type": "code",
   "execution_count": 34,
   "metadata": {},
   "outputs": [],
   "source": [
    "def average_past_loans(infringed=True, epsilon=0.01):\n",
    "    return average('past_loans_total', infringed, epsilon)"
   ]
  },
  {
   "cell_type": "code",
   "execution_count": 35,
   "metadata": {},
   "outputs": [
    {
     "name": "stdout",
     "output_type": "stream",
     "text": [
      "Percentage error: 11.084137808251663 %\n",
      "Average loans of people who infringed 4.8397991433833125\n",
      "Percentage error: 5.270399795126464 %\n",
      "Average loans of people who not infringed 4.724761834604171\n"
     ]
    }
   ],
   "source": [
    "print('Average loans of people who infringed', average_past_loans())\n",
    "print('Average loans of people who not infringed', average_past_loans(False))"
   ]
  },
  {
   "cell_type": "markdown",
   "metadata": {},
   "source": [
    "### Average loans approved"
   ]
  },
  {
   "cell_type": "code",
   "execution_count": 36,
   "metadata": {},
   "outputs": [],
   "source": [
    "def average_loans_approved(infringed=True, epsilon=0.01):\n",
    "    return average('past_loans_approved', infringed, epsilon)"
   ]
  },
  {
   "cell_type": "code",
   "execution_count": 40,
   "metadata": {},
   "outputs": [
    {
     "name": "stdout",
     "output_type": "stream",
     "text": [
      "Percentage error: 23.940452927771112 %\n",
      "Average loans approved of people who infringed 3.7040557064896467\n",
      "Percentage error: 0.5045331154146948 %\n",
      "Average loans approved of people who not infringed 3.207386403414266\n"
     ]
    }
   ],
   "source": [
    "print('Average loans approved of people who infringed', average_loans_approved())\n",
    "print('Average loans approved of people who not infringed', average_loans_approved(False))"
   ]
  },
  {
   "attachments": {},
   "cell_type": "markdown",
   "metadata": {},
   "source": [
    "Observa-se que as médias são semelhantes às do dataset original, apesar de existirem algumas diferenças, devido ao erro introduzido."
   ]
  },
  {
   "attachments": {},
   "cell_type": "markdown",
   "metadata": {},
   "source": [
    "### Average loans refused"
   ]
  },
  {
   "cell_type": "code",
   "execution_count": 41,
   "metadata": {},
   "outputs": [],
   "source": [
    "def average_loans_refused(infringed=True, epsilon=0.01):\n",
    "    return average('past_loans_refused', infringed, epsilon)"
   ]
  },
  {
   "cell_type": "code",
   "execution_count": 42,
   "metadata": {},
   "outputs": [
    {
     "name": "stdout",
     "output_type": "stream",
     "text": [
      "Percentage error: 77.39782565095018 %\n",
      "Average loans refused of people who infringed 0.22096556931436617\n",
      "Percentage error: 9.510519207962997 %\n",
      "Average loans refused of people who not infringed 0.8558327556573528\n"
     ]
    }
   ],
   "source": [
    "print('Average loans refused of people who infringed', average_loans_refused())\n",
    "print('Average loans refused of people who not infringed', average_loans_refused(False))"
   ]
  },
  {
   "attachments": {},
   "cell_type": "markdown",
   "metadata": {},
   "source": [
    "Observa-se que as diferenças para os dados originais ainda são significativas, principalmente para as pessoas que cometeram infrações, isto também se deve ao facto do erro ser de 77%."
   ]
  },
  {
   "attachments": {},
   "cell_type": "markdown",
   "metadata": {},
   "source": [
    "### Average amount annuity in past loans"
   ]
  },
  {
   "cell_type": "code",
   "execution_count": 43,
   "metadata": {},
   "outputs": [],
   "source": [
    "def average_loans_amount_annuity(infringed=True, epsilon=0.01):\n",
    "    return average('past_avg_amount_annuity', infringed, epsilon)"
   ]
  },
  {
   "cell_type": "code",
   "execution_count": 44,
   "metadata": {},
   "outputs": [
    {
     "name": "stdout",
     "output_type": "stream",
     "text": [
      "Percentage error: 8.37376360978757 %\n",
      "Average loans amount annuity of people who infringed 13399.447176371625\n",
      "Percentage error: 1.3934740993777963 %\n",
      "Average loans ammount annuity of people who not infringed 15638.204246710224\n"
     ]
    }
   ],
   "source": [
    "print('Average loans amount annuity of people who infringed', average_loans_amount_annuity())\n",
    "print('Average loans ammount annuity of people who not infringed', average_loans_amount_annuity(False))"
   ]
  },
  {
   "attachments": {},
   "cell_type": "markdown",
   "metadata": {},
   "source": [
    "Observa-se que os valores estão semelhantes aos originais."
   ]
  },
  {
   "attachments": {},
   "cell_type": "markdown",
   "metadata": {},
   "source": [
    "### Average amount application"
   ]
  },
  {
   "cell_type": "code",
   "execution_count": 45,
   "metadata": {},
   "outputs": [],
   "source": [
    "def average_loans_amount_application(infringed=True, epsilon=0.01):\n",
    "    return average('past_avg_amt_application', infringed, epsilon)"
   ]
  },
  {
   "cell_type": "code",
   "execution_count": 46,
   "metadata": {},
   "outputs": [
    {
     "name": "stdout",
     "output_type": "stream",
     "text": [
      "Percentage error: 48.02270859993485 %\n",
      "Average loans amount application of people who infringed 236824.3018215088\n",
      "Percentage error: 16.489181089781194 %\n",
      "Average loans ammount application of people who not infringed 194098.93886207265\n"
     ]
    }
   ],
   "source": [
    "print('Average loans amount application of people who infringed', average_loans_amount_application())\n",
    "print('Average loans ammount application of people who not infringed', average_loans_amount_application(False))"
   ]
  },
  {
   "attachments": {},
   "cell_type": "markdown",
   "metadata": {},
   "source": [
    "### Average loans canceled"
   ]
  },
  {
   "cell_type": "code",
   "execution_count": 27,
   "metadata": {},
   "outputs": [],
   "source": [
    "def average_loans_canceled(infringed=True, epsilon=0.01):\n",
    "    return average('past_loans_canceled', infringed, epsilon)"
   ]
  },
  {
   "cell_type": "code",
   "execution_count": 29,
   "metadata": {},
   "outputs": [
    {
     "name": "stdout",
     "output_type": "stream",
     "text": [
      "Percentage error: 46.78314248138467 %\n",
      "Average loans canceled of people who infringed 0.7117533061747219\n",
      "Percentage error: 63.22790235253656 %\n",
      "Average loans canceled of people who not infringed 1.4303072523459004\n"
     ]
    }
   ],
   "source": [
    "print('Average loans canceled of people who infringed', average_loans_canceled())\n",
    "print('Average loans canceled of people who not infringed', average_loans_canceled(False))"
   ]
  },
  {
   "attachments": {},
   "cell_type": "markdown",
   "metadata": {},
   "source": [
    "Verifica-se que os valores obtidos, são semelhantes aos originais, apesar de terem alguns erro adicionado."
   ]
  },
  {
   "attachments": {},
   "cell_type": "markdown",
   "metadata": {},
   "source": [
    "## Conclusão\n",
    "\n",
    "Ao comparar os valores obtidos com a análise do dataset original, observa-se que nalguns casos, existem um erro significativo nos valores calculados, pelo que pode afetar futuras análises por parte da Dellenture. No entanto, a maioria dos valores seguem os mesmos pradoões que o dataset original."
   ]
  }
 ],
 "metadata": {
  "kernelspec": {
   "display_name": "Python 3.9.15 ('SP_project')",
   "language": "python",
   "name": "python3"
  },
  "language_info": {
   "codemirror_mode": {
    "name": "ipython",
    "version": 3
   },
   "file_extension": ".py",
   "mimetype": "text/x-python",
   "name": "python",
   "nbconvert_exporter": "python",
   "pygments_lexer": "ipython3",
   "version": "3.9.15 (main, Nov 24 2022, 14:39:17) [MSC v.1916 64 bit (AMD64)]"
  },
  "orig_nbformat": 4,
  "vscode": {
   "interpreter": {
    "hash": "5e394f5a2ecf3642d552b7bae0d597e81a508e6a7dcef796b3286c6b531fac3e"
   }
  }
 },
 "nbformat": 4,
 "nbformat_minor": 2
}
